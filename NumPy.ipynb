{
 "cells": [
  {
   "cell_type": "code",
   "execution_count": 8,
   "id": "bedbcd85",
   "metadata": {},
   "outputs": [],
   "source": [
    "import numpy as np\n",
    "import time"
   ]
  },
  {
   "cell_type": "code",
   "execution_count": 9,
   "id": "ae735ac7",
   "metadata": {},
   "outputs": [
    {
     "data": {
      "text/plain": [
       "array([[0, 5, 0, 7, 6],\n",
       "       [8, 4, 6, 8, 1],\n",
       "       [0, 4, 5, 0, 4],\n",
       "       [7, 3, 4, 2, 4],\n",
       "       [9, 6, 5, 8, 8]])"
      ]
     },
     "execution_count": 9,
     "metadata": {},
     "output_type": "execute_result"
    }
   ],
   "source": [
    "R = np.random.randint(10, size= (5,5))\n",
    "R"
   ]
  },
  {
   "cell_type": "code",
   "execution_count": 10,
   "id": "95d316a3",
   "metadata": {},
   "outputs": [
    {
     "data": {
      "text/plain": [
       "numpy.ndarray"
      ]
     },
     "execution_count": 10,
     "metadata": {},
     "output_type": "execute_result"
    }
   ],
   "source": [
    "type(R)"
   ]
  },
  {
   "cell_type": "code",
   "execution_count": 12,
   "id": "968d8e76",
   "metadata": {},
   "outputs": [
    {
     "data": {
      "text/plain": [
       "array([0, 5, 0, 7, 6])"
      ]
     },
     "execution_count": 12,
     "metadata": {},
     "output_type": "execute_result"
    }
   ],
   "source": [
    "R[0] # PROTI GRAMMI"
   ]
  },
  {
   "cell_type": "code",
   "execution_count": 11,
   "id": "1f70ca30",
   "metadata": {},
   "outputs": [
    {
     "data": {
      "text/plain": [
       "array([0, 8, 0, 7, 9])"
      ]
     },
     "execution_count": 11,
     "metadata": {},
     "output_type": "execute_result"
    }
   ],
   "source": [
    "R[:, 0]"
   ]
  },
  {
   "cell_type": "code",
   "execution_count": 13,
   "id": "f91a5cc9",
   "metadata": {},
   "outputs": [
    {
     "data": {
      "text/plain": [
       "array([7, 8, 0, 2, 8])"
      ]
     },
     "execution_count": 13,
     "metadata": {},
     "output_type": "execute_result"
    }
   ],
   "source": [
    "R[:, 3]"
   ]
  },
  {
   "cell_type": "code",
   "execution_count": 14,
   "id": "22689716",
   "metadata": {},
   "outputs": [
    {
     "data": {
      "text/plain": [
       "0"
      ]
     },
     "execution_count": 14,
     "metadata": {},
     "output_type": "execute_result"
    }
   ],
   "source": [
    "R[0,0]"
   ]
  },
  {
   "cell_type": "code",
   "execution_count": 15,
   "id": "b18a9f1e",
   "metadata": {},
   "outputs": [
    {
     "data": {
      "text/plain": [
       "8"
      ]
     },
     "execution_count": 15,
     "metadata": {},
     "output_type": "execute_result"
    }
   ],
   "source": [
    "R[-1,-1]"
   ]
  },
  {
   "cell_type": "code",
   "execution_count": 16,
   "id": "5d081076",
   "metadata": {},
   "outputs": [
    {
     "data": {
      "text/plain": [
       "array([9, 6, 5, 8, 8])"
      ]
     },
     "execution_count": 16,
     "metadata": {},
     "output_type": "execute_result"
    }
   ],
   "source": [
    "R[-1]"
   ]
  },
  {
   "cell_type": "code",
   "execution_count": 18,
   "id": "c64cb62d",
   "metadata": {},
   "outputs": [
    {
     "data": {
      "text/plain": [
       "array([[0, 5, 0, 7],\n",
       "       [8, 4, 6, 8],\n",
       "       [0, 4, 5, 0],\n",
       "       [7, 3, 4, 2],\n",
       "       [9, 6, 5, 8]])"
      ]
     },
     "execution_count": 18,
     "metadata": {},
     "output_type": "execute_result"
    }
   ],
   "source": [
    "R[:, :-1]"
   ]
  },
  {
   "cell_type": "code",
   "execution_count": 19,
   "id": "4da24014",
   "metadata": {},
   "outputs": [
    {
     "data": {
      "text/plain": [
       "array([[ 1,  2,  3,  4],\n",
       "       [ 5,  6,  7,  8],\n",
       "       [ 9, 10, 11, 12]])"
      ]
     },
     "execution_count": 19,
     "metadata": {},
     "output_type": "execute_result"
    }
   ],
   "source": [
    "a = np.array([[1,2,3,4],[5,6,7,8],[9,10,11,12]])\n",
    "a"
   ]
  },
  {
   "cell_type": "code",
   "execution_count": 20,
   "id": "e7dec2e3",
   "metadata": {},
   "outputs": [
    {
     "data": {
      "text/plain": [
       "array([[1, 2],\n",
       "       [5, 6]])"
      ]
     },
     "execution_count": 20,
     "metadata": {},
     "output_type": "execute_result"
    }
   ],
   "source": [
    "b = a[:2,:2]# rows,columns\n",
    "b"
   ]
  },
  {
   "cell_type": "code",
   "execution_count": 21,
   "id": "3b04c62a",
   "metadata": {},
   "outputs": [
    {
     "data": {
      "text/plain": [
       "array([[1, 2],\n",
       "       [5, 6]])"
      ]
     },
     "execution_count": 21,
     "metadata": {},
     "output_type": "execute_result"
    }
   ],
   "source": [
    "b = a[:2,:2].copy()\n",
    "b"
   ]
  },
  {
   "cell_type": "code",
   "execution_count": 22,
   "id": "6da5d8e1",
   "metadata": {},
   "outputs": [
    {
     "data": {
      "text/plain": [
       "array([[ 1,  2,  3,  4],\n",
       "       [ 5,  6,  7,  8],\n",
       "       [ 9, 10, 11, 12]])"
      ]
     },
     "execution_count": 22,
     "metadata": {},
     "output_type": "execute_result"
    }
   ],
   "source": [
    "a"
   ]
  },
  {
   "cell_type": "code",
   "execution_count": 24,
   "id": "ab78df4f",
   "metadata": {},
   "outputs": [],
   "source": [
    "b[0,0] = 77"
   ]
  },
  {
   "cell_type": "code",
   "execution_count": 25,
   "id": "87bb5f7e",
   "metadata": {},
   "outputs": [
    {
     "data": {
      "text/plain": [
       "array([[77,  2],\n",
       "       [ 5,  6]])"
      ]
     },
     "execution_count": 25,
     "metadata": {},
     "output_type": "execute_result"
    }
   ],
   "source": [
    "b"
   ]
  },
  {
   "cell_type": "code",
   "execution_count": 26,
   "id": "ab6a313c",
   "metadata": {},
   "outputs": [
    {
     "data": {
      "text/plain": [
       "array([1, 2, 3, 4])"
      ]
     },
     "execution_count": 26,
     "metadata": {},
     "output_type": "execute_result"
    }
   ],
   "source": [
    "a[0]"
   ]
  },
  {
   "cell_type": "code",
   "execution_count": 33,
   "id": "5fc1d714",
   "metadata": {},
   "outputs": [
    {
     "data": {
      "text/plain": [
       "array([ 4,  8, 12])"
      ]
     },
     "execution_count": 33,
     "metadata": {},
     "output_type": "execute_result"
    }
   ],
   "source": [
    "a[:,3]"
   ]
  },
  {
   "cell_type": "code",
   "execution_count": 28,
   "id": "3689d4c4",
   "metadata": {},
   "outputs": [
    {
     "data": {
      "text/plain": [
       "array([[False, False, False, False],\n",
       "       [False, False, False, False],\n",
       "       [False, False,  True,  True]])"
      ]
     },
     "execution_count": 28,
     "metadata": {},
     "output_type": "execute_result"
    }
   ],
   "source": [
    "a > 10"
   ]
  },
  {
   "cell_type": "code",
   "execution_count": 29,
   "id": "a5ff48fe",
   "metadata": {},
   "outputs": [
    {
     "data": {
      "text/plain": [
       "array([[  1,   2,   3,   4],\n",
       "       [  5,   6,   7,   8],\n",
       "       [  9,  10, 110, 120]])"
      ]
     },
     "execution_count": 29,
     "metadata": {},
     "output_type": "execute_result"
    }
   ],
   "source": [
    "np.where(a>10, a*10,a)"
   ]
  },
  {
   "cell_type": "code",
   "execution_count": 30,
   "id": "7b08942e",
   "metadata": {},
   "outputs": [
    {
     "data": {
      "text/plain": [
       "array([['0', '0', '0', '0'],\n",
       "       ['0', '0', '0', '0'],\n",
       "       ['0', '0', 'agree', 'agree']], dtype='<U5')"
      ]
     },
     "execution_count": 30,
     "metadata": {},
     "output_type": "execute_result"
    }
   ],
   "source": [
    "np.where(a>10, 'agree','0') # otan isxyei h sinthiki a tote agree alliws 0"
   ]
  },
  {
   "cell_type": "markdown",
   "id": "72631bab",
   "metadata": {},
   "source": [
    "# TEST"
   ]
  },
  {
   "cell_type": "code",
   "execution_count": 36,
   "id": "791b1082",
   "metadata": {},
   "outputs": [
    {
     "name": "stdout",
     "output_type": "stream",
     "text": [
      "499999999500000000\n",
      "Time taken 24.54898691177368 seconds\n"
     ]
    }
   ],
   "source": [
    "start_time = time.time()\n",
    "count = 1000000000\n",
    "normalRange = range(count)\n",
    "print(sum(normalRange))\n",
    "print(f'Time taken {time.time() - start_time} seconds')"
   ]
  },
  {
   "cell_type": "code",
   "execution_count": 37,
   "id": "4accb186",
   "metadata": {},
   "outputs": [
    {
     "name": "stdout",
     "output_type": "stream",
     "text": [
      "-1243309312\n",
      "Time taken 1.689129114151001 seconds\n"
     ]
    }
   ],
   "source": [
    "start_time = time.time()\n",
    "count = 1000000000\n",
    "nampyRange = np.arange(count)\n",
    "print(nampyRange.sum())\n",
    "print(f'Time taken {time.time() - start_time} seconds')"
   ]
  },
  {
   "cell_type": "code",
   "execution_count": 41,
   "id": "6df7b53b",
   "metadata": {},
   "outputs": [
    {
     "name": "stdout",
     "output_type": "stream",
     "text": [
      "499999999500000000\n",
      "Time taken 42.957602739334106 seconds\n"
     ]
    }
   ],
   "source": [
    "start_time = time.time()\n",
    "count = 1000000000\n",
    "nampyRange = np.arange(count).astype('int64')\n",
    "print(nampyRange.sum())\n",
    "print(f'Time taken {time.time() - start_time} seconds')"
   ]
  },
  {
   "cell_type": "code",
   "execution_count": null,
   "id": "c7fca9ea",
   "metadata": {},
   "outputs": [],
   "source": []
  }
 ],
 "metadata": {
  "kernelspec": {
   "display_name": "Python 3 (ipykernel)",
   "language": "python",
   "name": "python3"
  },
  "language_info": {
   "codemirror_mode": {
    "name": "ipython",
    "version": 3
   },
   "file_extension": ".py",
   "mimetype": "text/x-python",
   "name": "python",
   "nbconvert_exporter": "python",
   "pygments_lexer": "ipython3",
   "version": "3.8.10"
  }
 },
 "nbformat": 4,
 "nbformat_minor": 5
}
