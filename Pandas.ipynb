{
 "cells": [
  {
   "cell_type": "code",
   "execution_count": 1,
   "id": "ac0d4337",
   "metadata": {},
   "outputs": [],
   "source": [
    "import warnings\n",
    "warnings.filterwarnings('ignore')"
   ]
  },
  {
   "cell_type": "code",
   "execution_count": 2,
   "id": "de446cb2",
   "metadata": {
    "id": "de446cb2",
    "outputId": "e13cc9d1-d7ed-4994-cd79-5a9ef7d9bcea"
   },
   "outputs": [
    {
     "name": "stdout",
     "output_type": "stream",
     "text": [
      "[10, 50, 20, 60, 40]\n"
     ]
    }
   ],
   "source": [
    "a=[10, 50,  20, 60, 40]\n",
    "print(a)"
   ]
  },
  {
   "cell_type": "code",
   "execution_count": 3,
   "id": "8eb10fec",
   "metadata": {
    "id": "8eb10fec",
    "outputId": "ec3d0970-3e3c-4e43-ffca-edc26a711210"
   },
   "outputs": [
    {
     "name": "stdout",
     "output_type": "stream",
     "text": [
      "0    10\n",
      "1    50\n",
      "2    20\n",
      "3    60\n",
      "4    40\n",
      "dtype: int64\n"
     ]
    }
   ],
   "source": [
    "import pandas as pd\n",
    "series_a=pd.Series(a)\n",
    "print(series_a)"
   ]
  },
  {
   "cell_type": "code",
   "execution_count": 4,
   "id": "72b4d954",
   "metadata": {
    "id": "72b4d954"
   },
   "outputs": [],
   "source": [
    "my_index=['mercedes', 'fiat', 'vw', 'bmw', 'porsche']"
   ]
  },
  {
   "cell_type": "code",
   "execution_count": 5,
   "id": "5778bfae",
   "metadata": {
    "id": "5778bfae"
   },
   "outputs": [],
   "source": [
    "series_a=pd.Series(a, index=my_index)"
   ]
  },
  {
   "cell_type": "code",
   "execution_count": 6,
   "id": "73885ae5",
   "metadata": {
    "id": "73885ae5",
    "outputId": "c3ae8b80-4f4b-49e7-b6a0-5ef4d2e83e82"
   },
   "outputs": [
    {
     "name": "stdout",
     "output_type": "stream",
     "text": [
      "mercedes    10\n",
      "fiat        50\n",
      "vw          20\n",
      "bmw         60\n",
      "porsche     40\n",
      "dtype: int64\n"
     ]
    }
   ],
   "source": [
    "# series are lists with index!!! :-) \n",
    "print(series_a)"
   ]
  },
  {
   "cell_type": "code",
   "execution_count": 7,
   "id": "c7763fd7",
   "metadata": {
    "id": "c7763fd7",
    "outputId": "565a2e1f-4cb0-473c-bdca-5da4fd95ff55"
   },
   "outputs": [
    {
     "name": "stdout",
     "output_type": "stream",
     "text": [
      "60\n"
     ]
    }
   ],
   "source": [
    "print(series_a['bmw'])"
   ]
  },
  {
   "cell_type": "code",
   "execution_count": 8,
   "id": "5be1bb6b",
   "metadata": {
    "id": "5be1bb6b",
    "outputId": "10428776-5534-4161-c103-d026e75c9ae1"
   },
   "outputs": [
    {
     "data": {
      "text/plain": [
       "60"
      ]
     },
     "execution_count": 8,
     "metadata": {},
     "output_type": "execute_result"
    }
   ],
   "source": [
    "series_a[3]"
   ]
  },
  {
   "cell_type": "code",
   "execution_count": 9,
   "id": "872d87dd",
   "metadata": {
    "id": "872d87dd"
   },
   "outputs": [],
   "source": [
    "#read xlsx file from drive\n",
    "data=pd.read_excel('students.xlsx')"
   ]
  },
  {
   "cell_type": "code",
   "execution_count": 10,
   "id": "38cc840a",
   "metadata": {
    "id": "38cc840a",
    "outputId": "8cfee078-adba-4e58-b78c-16f522424441"
   },
   "outputs": [
    {
     "name": "stdout",
     "output_type": "stream",
     "text": [
      "(17, 6)\n"
     ]
    }
   ],
   "source": [
    "#size of data (rows, columns)\n",
    "print(data.shape)"
   ]
  },
  {
   "cell_type": "code",
   "execution_count": 11,
   "id": "2e84b996",
   "metadata": {
    "id": "2e84b996",
    "outputId": "798a1b1d-b2c2-4c78-a6c0-087e99084670"
   },
   "outputs": [
    {
     "name": "stdout",
     "output_type": "stream",
     "text": [
      "17\n",
      "6\n"
     ]
    }
   ],
   "source": [
    "print(len(data))\n",
    "print(data.shape[1])"
   ]
  },
  {
   "cell_type": "code",
   "execution_count": 12,
   "id": "28ce799d",
   "metadata": {
    "id": "28ce799d",
    "outputId": "c0c1a318-15a8-4ecc-89f2-cd372eece0bc"
   },
   "outputs": [
    {
     "name": "stdout",
     "output_type": "stream",
     "text": [
      "     student semester  language  science  maths  history\n",
      "0   Alkistis        A      90.0     56.0   34.0     34.0\n",
      "1      Eleni        A      10.0     40.0   32.0     67.0\n",
      "2  Christina        A      90.0     23.0   12.0     32.0\n",
      "3       Aris        A      20.0     50.0   90.0     45.0\n",
      "4   Dimitris        A      30.0     56.0   45.0     65.0\n"
     ]
    }
   ],
   "source": [
    "print(data.head())"
   ]
  },
  {
   "cell_type": "code",
   "execution_count": 13,
   "id": "c44336f6",
   "metadata": {
    "id": "c44336f6",
    "outputId": "6f599767-0d2f-45e8-d0c3-ae15af150afb"
   },
   "outputs": [
    {
     "name": "stdout",
     "output_type": "stream",
     "text": [
      "     student semester  language  science  maths  history\n",
      "0   Alkistis        A      90.0     56.0   34.0     34.0\n",
      "1      Eleni        A      10.0     40.0   32.0     67.0\n",
      "2  Christina        A      90.0     23.0   12.0     32.0\n"
     ]
    }
   ],
   "source": [
    "print(data.head(3))"
   ]
  },
  {
   "cell_type": "code",
   "execution_count": 14,
   "id": "fa5fcfbc",
   "metadata": {
    "id": "fa5fcfbc",
    "outputId": "e2d9d6d7-dda1-4db4-9534-a4007e3f0581"
   },
   "outputs": [
    {
     "name": "stdout",
     "output_type": "stream",
     "text": [
      "   student semester  language  science  maths  history\n",
      "12  Kostas        B      90.0     45.0   80.0     50.0\n",
      "13   Manos        B      67.0     90.0   45.0     34.0\n",
      "14  Spyros        A       NaN     50.0   50.0     50.0\n",
      "15  Spyros        B      60.0      NaN    NaN     60.0\n",
      "16    John        A      40.0     40.0   30.0      NaN\n"
     ]
    }
   ],
   "source": [
    "print(data.tail())"
   ]
  },
  {
   "cell_type": "code",
   "execution_count": 15,
   "id": "cfba4a03",
   "metadata": {
    "id": "cfba4a03",
    "outputId": "4fc13e76-47a1-4ee3-f631-b445db16bd46"
   },
   "outputs": [
    {
     "name": "stdout",
     "output_type": "stream",
     "text": [
      "<class 'pandas.core.frame.DataFrame'>\n",
      "RangeIndex: 17 entries, 0 to 16\n",
      "Data columns (total 6 columns):\n",
      " #   Column    Non-Null Count  Dtype  \n",
      "---  ------    --------------  -----  \n",
      " 0   student   17 non-null     object \n",
      " 1   semester  17 non-null     object \n",
      " 2   language  16 non-null     float64\n",
      " 3   science   16 non-null     float64\n",
      " 4   maths     16 non-null     float64\n",
      " 5   history   16 non-null     float64\n",
      "dtypes: float64(4), object(2)\n",
      "memory usage: 944.0+ bytes\n",
      "None\n"
     ]
    }
   ],
   "source": [
    "print(data.info())"
   ]
  },
  {
   "cell_type": "code",
   "execution_count": 16,
   "id": "af84f7c8",
   "metadata": {
    "id": "af84f7c8",
    "outputId": "83da55ef-fb30-4df4-a44c-f2e7bd466f1b",
    "scrolled": true
   },
   "outputs": [
    {
     "name": "stdout",
     "output_type": "stream",
     "text": [
      "        language    science     maths    history\n",
      "count  16.000000  16.000000  16.00000  16.000000\n",
      "mean   53.375000  49.000000  47.31250  44.812500\n",
      "std    32.737084  19.221516  25.63258  14.761295\n",
      "min     5.000000  18.000000   9.00000  23.000000\n",
      "25%    23.750000  40.000000  29.75000  33.500000\n",
      "50%    55.000000  47.500000  45.00000  45.000000\n",
      "75%    87.750000  52.250000  68.00000  60.000000\n",
      "max    90.000000  90.000000  90.00000  67.000000\n"
     ]
    }
   ],
   "source": [
    "print(data.describe())"
   ]
  },
  {
   "cell_type": "code",
   "execution_count": 17,
   "id": "70e75992",
   "metadata": {},
   "outputs": [
    {
     "data": {
      "text/plain": [
       "Index(['student', 'semester', 'language', 'science', 'maths', 'history'], dtype='object')"
      ]
     },
     "execution_count": 17,
     "metadata": {},
     "output_type": "execute_result"
    }
   ],
   "source": [
    "data.columns"
   ]
  },
  {
   "cell_type": "code",
   "execution_count": 18,
   "id": "64466e9b",
   "metadata": {},
   "outputs": [
    {
     "data": {
      "text/plain": [
       "student     Alkistis\n",
       "semester           A\n",
       "language        90.0\n",
       "science         56.0\n",
       "maths           34.0\n",
       "history         34.0\n",
       "Name: 0, dtype: object"
      ]
     },
     "execution_count": 18,
     "metadata": {},
     "output_type": "execute_result"
    }
   ],
   "source": [
    "#By Position - Select single row by row\n",
    "data.iloc[0]"
   ]
  },
  {
   "cell_type": "code",
   "execution_count": 19,
   "id": "86f82b65",
   "metadata": {
    "scrolled": true
   },
   "outputs": [
    {
     "data": {
      "text/plain": [
       "'A'"
      ]
     },
     "execution_count": 19,
     "metadata": {},
     "output_type": "execute_result"
    }
   ],
   "source": [
    "#By Position - Select single value by row and column\n",
    "data.iloc[0][1]"
   ]
  },
  {
   "cell_type": "code",
   "execution_count": 20,
   "id": "60acb962",
   "metadata": {},
   "outputs": [
    {
     "data": {
      "text/plain": [
       "90.0"
      ]
     },
     "execution_count": 20,
     "metadata": {},
     "output_type": "execute_result"
    }
   ],
   "source": [
    "#By Label - Select single value by row and column labels\n",
    "data.loc[0][\"language\"]"
   ]
  },
  {
   "cell_type": "code",
   "execution_count": 21,
   "id": "97648f44",
   "metadata": {},
   "outputs": [
    {
     "data": {
      "text/html": [
       "<div>\n",
       "<style scoped>\n",
       "    .dataframe tbody tr th:only-of-type {\n",
       "        vertical-align: middle;\n",
       "    }\n",
       "\n",
       "    .dataframe tbody tr th {\n",
       "        vertical-align: top;\n",
       "    }\n",
       "\n",
       "    .dataframe thead th {\n",
       "        text-align: right;\n",
       "    }\n",
       "</style>\n",
       "<table border=\"1\" class=\"dataframe\">\n",
       "  <thead>\n",
       "    <tr style=\"text-align: right;\">\n",
       "      <th></th>\n",
       "      <th>student</th>\n",
       "      <th>semester</th>\n",
       "      <th>language</th>\n",
       "      <th>science</th>\n",
       "      <th>maths</th>\n",
       "      <th>history</th>\n",
       "    </tr>\n",
       "  </thead>\n",
       "  <tbody>\n",
       "    <tr>\n",
       "      <th>15</th>\n",
       "      <td>Spyros</td>\n",
       "      <td>B</td>\n",
       "      <td>60.0</td>\n",
       "      <td>NaN</td>\n",
       "      <td>NaN</td>\n",
       "      <td>60.0</td>\n",
       "    </tr>\n",
       "    <tr>\n",
       "      <th>14</th>\n",
       "      <td>Spyros</td>\n",
       "      <td>A</td>\n",
       "      <td>NaN</td>\n",
       "      <td>50.0</td>\n",
       "      <td>50.0</td>\n",
       "      <td>50.0</td>\n",
       "    </tr>\n",
       "    <tr>\n",
       "      <th>13</th>\n",
       "      <td>Manos</td>\n",
       "      <td>B</td>\n",
       "      <td>67.0</td>\n",
       "      <td>90.0</td>\n",
       "      <td>45.0</td>\n",
       "      <td>34.0</td>\n",
       "    </tr>\n",
       "    <tr>\n",
       "      <th>6</th>\n",
       "      <td>Manos</td>\n",
       "      <td>A</td>\n",
       "      <td>50.0</td>\n",
       "      <td>90.0</td>\n",
       "      <td>45.0</td>\n",
       "      <td>23.0</td>\n",
       "    </tr>\n",
       "    <tr>\n",
       "      <th>5</th>\n",
       "      <td>Kostas</td>\n",
       "      <td>A</td>\n",
       "      <td>90.0</td>\n",
       "      <td>45.0</td>\n",
       "      <td>80.0</td>\n",
       "      <td>34.0</td>\n",
       "    </tr>\n",
       "    <tr>\n",
       "      <th>12</th>\n",
       "      <td>Kostas</td>\n",
       "      <td>B</td>\n",
       "      <td>90.0</td>\n",
       "      <td>45.0</td>\n",
       "      <td>80.0</td>\n",
       "      <td>50.0</td>\n",
       "    </tr>\n",
       "    <tr>\n",
       "      <th>16</th>\n",
       "      <td>John</td>\n",
       "      <td>A</td>\n",
       "      <td>40.0</td>\n",
       "      <td>40.0</td>\n",
       "      <td>30.0</td>\n",
       "      <td>NaN</td>\n",
       "    </tr>\n",
       "    <tr>\n",
       "      <th>1</th>\n",
       "      <td>Eleni</td>\n",
       "      <td>A</td>\n",
       "      <td>10.0</td>\n",
       "      <td>40.0</td>\n",
       "      <td>32.0</td>\n",
       "      <td>67.0</td>\n",
       "    </tr>\n",
       "    <tr>\n",
       "      <th>8</th>\n",
       "      <td>Eleni</td>\n",
       "      <td>B</td>\n",
       "      <td>5.0</td>\n",
       "      <td>34.0</td>\n",
       "      <td>27.0</td>\n",
       "      <td>62.0</td>\n",
       "    </tr>\n",
       "    <tr>\n",
       "      <th>11</th>\n",
       "      <td>Dimitris</td>\n",
       "      <td>B</td>\n",
       "      <td>25.0</td>\n",
       "      <td>51.0</td>\n",
       "      <td>64.0</td>\n",
       "      <td>60.0</td>\n",
       "    </tr>\n",
       "    <tr>\n",
       "      <th>4</th>\n",
       "      <td>Dimitris</td>\n",
       "      <td>A</td>\n",
       "      <td>30.0</td>\n",
       "      <td>56.0</td>\n",
       "      <td>45.0</td>\n",
       "      <td>65.0</td>\n",
       "    </tr>\n",
       "    <tr>\n",
       "      <th>9</th>\n",
       "      <td>Christina</td>\n",
       "      <td>B</td>\n",
       "      <td>85.0</td>\n",
       "      <td>18.0</td>\n",
       "      <td>9.0</td>\n",
       "      <td>27.0</td>\n",
       "    </tr>\n",
       "    <tr>\n",
       "      <th>2</th>\n",
       "      <td>Christina</td>\n",
       "      <td>A</td>\n",
       "      <td>90.0</td>\n",
       "      <td>23.0</td>\n",
       "      <td>12.0</td>\n",
       "      <td>32.0</td>\n",
       "    </tr>\n",
       "    <tr>\n",
       "      <th>10</th>\n",
       "      <td>Aris</td>\n",
       "      <td>B</td>\n",
       "      <td>15.0</td>\n",
       "      <td>45.0</td>\n",
       "      <td>85.0</td>\n",
       "      <td>45.0</td>\n",
       "    </tr>\n",
       "    <tr>\n",
       "      <th>3</th>\n",
       "      <td>Aris</td>\n",
       "      <td>A</td>\n",
       "      <td>20.0</td>\n",
       "      <td>50.0</td>\n",
       "      <td>90.0</td>\n",
       "      <td>45.0</td>\n",
       "    </tr>\n",
       "    <tr>\n",
       "      <th>7</th>\n",
       "      <td>Alkistis</td>\n",
       "      <td>B</td>\n",
       "      <td>87.0</td>\n",
       "      <td>51.0</td>\n",
       "      <td>29.0</td>\n",
       "      <td>29.0</td>\n",
       "    </tr>\n",
       "    <tr>\n",
       "      <th>0</th>\n",
       "      <td>Alkistis</td>\n",
       "      <td>A</td>\n",
       "      <td>90.0</td>\n",
       "      <td>56.0</td>\n",
       "      <td>34.0</td>\n",
       "      <td>34.0</td>\n",
       "    </tr>\n",
       "  </tbody>\n",
       "</table>\n",
       "</div>"
      ],
      "text/plain": [
       "      student semester  language  science  maths  history\n",
       "15     Spyros        B      60.0      NaN    NaN     60.0\n",
       "14     Spyros        A       NaN     50.0   50.0     50.0\n",
       "13      Manos        B      67.0     90.0   45.0     34.0\n",
       "6       Manos        A      50.0     90.0   45.0     23.0\n",
       "5      Kostas        A      90.0     45.0   80.0     34.0\n",
       "12     Kostas        B      90.0     45.0   80.0     50.0\n",
       "16       John        A      40.0     40.0   30.0      NaN\n",
       "1       Eleni        A      10.0     40.0   32.0     67.0\n",
       "8       Eleni        B       5.0     34.0   27.0     62.0\n",
       "11   Dimitris        B      25.0     51.0   64.0     60.0\n",
       "4    Dimitris        A      30.0     56.0   45.0     65.0\n",
       "9   Christina        B      85.0     18.0    9.0     27.0\n",
       "2   Christina        A      90.0     23.0   12.0     32.0\n",
       "10       Aris        B      15.0     45.0   85.0     45.0\n",
       "3        Aris        A      20.0     50.0   90.0     45.0\n",
       "7    Alkistis        B      87.0     51.0   29.0     29.0\n",
       "0    Alkistis        A      90.0     56.0   34.0     34.0"
      ]
     },
     "execution_count": 21,
     "metadata": {},
     "output_type": "execute_result"
    }
   ],
   "source": [
    "data.sort_values(by='student',ascending=False) "
   ]
  },
  {
   "cell_type": "code",
   "execution_count": 22,
   "id": "fbd81d22",
   "metadata": {},
   "outputs": [
    {
     "data": {
      "text/html": [
       "<div>\n",
       "<style scoped>\n",
       "    .dataframe tbody tr th:only-of-type {\n",
       "        vertical-align: middle;\n",
       "    }\n",
       "\n",
       "    .dataframe tbody tr th {\n",
       "        vertical-align: top;\n",
       "    }\n",
       "\n",
       "    .dataframe thead th {\n",
       "        text-align: right;\n",
       "    }\n",
       "</style>\n",
       "<table border=\"1\" class=\"dataframe\">\n",
       "  <thead>\n",
       "    <tr style=\"text-align: right;\">\n",
       "      <th></th>\n",
       "      <th>student</th>\n",
       "      <th>semester</th>\n",
       "      <th>language</th>\n",
       "      <th>science</th>\n",
       "      <th>maths</th>\n",
       "      <th>history</th>\n",
       "    </tr>\n",
       "  </thead>\n",
       "  <tbody>\n",
       "    <tr>\n",
       "      <th>0</th>\n",
       "      <td>Alkistis</td>\n",
       "      <td>A</td>\n",
       "      <td>90.0</td>\n",
       "      <td>56.0</td>\n",
       "      <td>34.0</td>\n",
       "      <td>34.0</td>\n",
       "    </tr>\n",
       "    <tr>\n",
       "      <th>2</th>\n",
       "      <td>Christina</td>\n",
       "      <td>A</td>\n",
       "      <td>90.0</td>\n",
       "      <td>23.0</td>\n",
       "      <td>12.0</td>\n",
       "      <td>32.0</td>\n",
       "    </tr>\n",
       "    <tr>\n",
       "      <th>5</th>\n",
       "      <td>Kostas</td>\n",
       "      <td>A</td>\n",
       "      <td>90.0</td>\n",
       "      <td>45.0</td>\n",
       "      <td>80.0</td>\n",
       "      <td>34.0</td>\n",
       "    </tr>\n",
       "    <tr>\n",
       "      <th>7</th>\n",
       "      <td>Alkistis</td>\n",
       "      <td>B</td>\n",
       "      <td>87.0</td>\n",
       "      <td>51.0</td>\n",
       "      <td>29.0</td>\n",
       "      <td>29.0</td>\n",
       "    </tr>\n",
       "    <tr>\n",
       "      <th>9</th>\n",
       "      <td>Christina</td>\n",
       "      <td>B</td>\n",
       "      <td>85.0</td>\n",
       "      <td>18.0</td>\n",
       "      <td>9.0</td>\n",
       "      <td>27.0</td>\n",
       "    </tr>\n",
       "    <tr>\n",
       "      <th>12</th>\n",
       "      <td>Kostas</td>\n",
       "      <td>B</td>\n",
       "      <td>90.0</td>\n",
       "      <td>45.0</td>\n",
       "      <td>80.0</td>\n",
       "      <td>50.0</td>\n",
       "    </tr>\n",
       "    <tr>\n",
       "      <th>13</th>\n",
       "      <td>Manos</td>\n",
       "      <td>B</td>\n",
       "      <td>67.0</td>\n",
       "      <td>90.0</td>\n",
       "      <td>45.0</td>\n",
       "      <td>34.0</td>\n",
       "    </tr>\n",
       "    <tr>\n",
       "      <th>15</th>\n",
       "      <td>Spyros</td>\n",
       "      <td>B</td>\n",
       "      <td>60.0</td>\n",
       "      <td>NaN</td>\n",
       "      <td>NaN</td>\n",
       "      <td>60.0</td>\n",
       "    </tr>\n",
       "  </tbody>\n",
       "</table>\n",
       "</div>"
      ],
      "text/plain": [
       "      student semester  language  science  maths  history\n",
       "0    Alkistis        A      90.0     56.0   34.0     34.0\n",
       "2   Christina        A      90.0     23.0   12.0     32.0\n",
       "5      Kostas        A      90.0     45.0   80.0     34.0\n",
       "7    Alkistis        B      87.0     51.0   29.0     29.0\n",
       "9   Christina        B      85.0     18.0    9.0     27.0\n",
       "12     Kostas        B      90.0     45.0   80.0     50.0\n",
       "13      Manos        B      67.0     90.0   45.0     34.0\n",
       "15     Spyros        B      60.0      NaN    NaN     60.0"
      ]
     },
     "execution_count": 22,
     "metadata": {},
     "output_type": "execute_result"
    }
   ],
   "source": [
    "#Use filter to adjust DataFrame\n",
    "data[data['language']>50]"
   ]
  },
  {
   "cell_type": "code",
   "execution_count": 23,
   "id": "ef15a9f0",
   "metadata": {
    "scrolled": true
   },
   "outputs": [
    {
     "data": {
      "text/plain": [
       "student     Alkistis\n",
       "semester           A\n",
       "language         5.0\n",
       "science         18.0\n",
       "maths            9.0\n",
       "history         23.0\n",
       "dtype: object"
      ]
     },
     "execution_count": 23,
     "metadata": {},
     "output_type": "execute_result"
    }
   ],
   "source": [
    "data.min()"
   ]
  },
  {
   "cell_type": "code",
   "execution_count": 24,
   "id": "9130f972",
   "metadata": {},
   "outputs": [
    {
     "data": {
      "text/plain": [
       "student     Spyros\n",
       "semester         B\n",
       "language      90.0\n",
       "science       90.0\n",
       "maths         90.0\n",
       "history       67.0\n",
       "dtype: object"
      ]
     },
     "execution_count": 24,
     "metadata": {},
     "output_type": "execute_result"
    }
   ],
   "source": [
    "#Maximum values\n",
    "data.max()"
   ]
  },
  {
   "cell_type": "code",
   "execution_count": 25,
   "id": "f60e1dd5",
   "metadata": {
    "scrolled": true
   },
   "outputs": [
    {
     "data": {
      "text/plain": [
       "student     AlkistisEleniChristinaArisDimitrisKostasManosA...\n",
       "semester                                    AAAAAAABBBBBBBABA\n",
       "language                                                854.0\n",
       "science                                                 784.0\n",
       "maths                                                   757.0\n",
       "history                                                 717.0\n",
       "dtype: object"
      ]
     },
     "execution_count": 25,
     "metadata": {},
     "output_type": "execute_result"
    }
   ],
   "source": [
    "#Sum of values\n",
    "data.sum()"
   ]
  },
  {
   "cell_type": "code",
   "execution_count": 26,
   "id": "6b9059d5",
   "metadata": {},
   "outputs": [
    {
     "data": {
      "text/plain": [
       "854.0"
      ]
     },
     "execution_count": 26,
     "metadata": {},
     "output_type": "execute_result"
    }
   ],
   "source": [
    "data['language'].sum()"
   ]
  },
  {
   "cell_type": "code",
   "execution_count": 27,
   "id": "0608bf7a",
   "metadata": {
    "scrolled": true
   },
   "outputs": [
    {
     "data": {
      "text/html": [
       "<div>\n",
       "<style scoped>\n",
       "    .dataframe tbody tr th:only-of-type {\n",
       "        vertical-align: middle;\n",
       "    }\n",
       "\n",
       "    .dataframe tbody tr th {\n",
       "        vertical-align: top;\n",
       "    }\n",
       "\n",
       "    .dataframe thead th {\n",
       "        text-align: right;\n",
       "    }\n",
       "</style>\n",
       "<table border=\"1\" class=\"dataframe\">\n",
       "  <thead>\n",
       "    <tr style=\"text-align: right;\">\n",
       "      <th></th>\n",
       "      <th>student</th>\n",
       "      <th>semester</th>\n",
       "      <th>language</th>\n",
       "      <th>science</th>\n",
       "      <th>maths</th>\n",
       "      <th>history</th>\n",
       "    </tr>\n",
       "  </thead>\n",
       "  <tbody>\n",
       "    <tr>\n",
       "      <th>5</th>\n",
       "      <td>Kostas</td>\n",
       "      <td>A</td>\n",
       "      <td>90.0</td>\n",
       "      <td>45.0</td>\n",
       "      <td>80.0</td>\n",
       "      <td>34.0</td>\n",
       "    </tr>\n",
       "    <tr>\n",
       "      <th>4</th>\n",
       "      <td>Dimitris</td>\n",
       "      <td>A</td>\n",
       "      <td>30.0</td>\n",
       "      <td>56.0</td>\n",
       "      <td>45.0</td>\n",
       "      <td>65.0</td>\n",
       "    </tr>\n",
       "  </tbody>\n",
       "</table>\n",
       "</div>"
      ],
      "text/plain": [
       "    student semester  language  science  maths  history\n",
       "5    Kostas        A      90.0     45.0   80.0     34.0\n",
       "4  Dimitris        A      30.0     56.0   45.0     65.0"
      ]
     },
     "execution_count": 27,
     "metadata": {},
     "output_type": "execute_result"
    }
   ],
   "source": [
    "#Used to generate a random sample\n",
    "data.sample(2)"
   ]
  },
  {
   "cell_type": "code",
   "execution_count": 28,
   "id": "dd843486",
   "metadata": {},
   "outputs": [
    {
     "data": {
      "text/html": [
       "<div>\n",
       "<style scoped>\n",
       "    .dataframe tbody tr th:only-of-type {\n",
       "        vertical-align: middle;\n",
       "    }\n",
       "\n",
       "    .dataframe tbody tr th {\n",
       "        vertical-align: top;\n",
       "    }\n",
       "\n",
       "    .dataframe thead th {\n",
       "        text-align: right;\n",
       "    }\n",
       "</style>\n",
       "<table border=\"1\" class=\"dataframe\">\n",
       "  <thead>\n",
       "    <tr style=\"text-align: right;\">\n",
       "      <th></th>\n",
       "      <th>student</th>\n",
       "      <th>semester</th>\n",
       "      <th>language</th>\n",
       "      <th>science</th>\n",
       "      <th>maths</th>\n",
       "      <th>history</th>\n",
       "    </tr>\n",
       "  </thead>\n",
       "  <tbody>\n",
       "    <tr>\n",
       "      <th>0</th>\n",
       "      <td>False</td>\n",
       "      <td>False</td>\n",
       "      <td>False</td>\n",
       "      <td>False</td>\n",
       "      <td>False</td>\n",
       "      <td>False</td>\n",
       "    </tr>\n",
       "    <tr>\n",
       "      <th>1</th>\n",
       "      <td>False</td>\n",
       "      <td>False</td>\n",
       "      <td>False</td>\n",
       "      <td>False</td>\n",
       "      <td>False</td>\n",
       "      <td>False</td>\n",
       "    </tr>\n",
       "    <tr>\n",
       "      <th>2</th>\n",
       "      <td>False</td>\n",
       "      <td>False</td>\n",
       "      <td>False</td>\n",
       "      <td>False</td>\n",
       "      <td>False</td>\n",
       "      <td>False</td>\n",
       "    </tr>\n",
       "    <tr>\n",
       "      <th>3</th>\n",
       "      <td>False</td>\n",
       "      <td>False</td>\n",
       "      <td>False</td>\n",
       "      <td>False</td>\n",
       "      <td>False</td>\n",
       "      <td>False</td>\n",
       "    </tr>\n",
       "    <tr>\n",
       "      <th>4</th>\n",
       "      <td>False</td>\n",
       "      <td>False</td>\n",
       "      <td>False</td>\n",
       "      <td>False</td>\n",
       "      <td>False</td>\n",
       "      <td>False</td>\n",
       "    </tr>\n",
       "    <tr>\n",
       "      <th>5</th>\n",
       "      <td>False</td>\n",
       "      <td>False</td>\n",
       "      <td>False</td>\n",
       "      <td>False</td>\n",
       "      <td>False</td>\n",
       "      <td>False</td>\n",
       "    </tr>\n",
       "    <tr>\n",
       "      <th>6</th>\n",
       "      <td>False</td>\n",
       "      <td>False</td>\n",
       "      <td>False</td>\n",
       "      <td>False</td>\n",
       "      <td>False</td>\n",
       "      <td>False</td>\n",
       "    </tr>\n",
       "    <tr>\n",
       "      <th>7</th>\n",
       "      <td>False</td>\n",
       "      <td>False</td>\n",
       "      <td>False</td>\n",
       "      <td>False</td>\n",
       "      <td>False</td>\n",
       "      <td>False</td>\n",
       "    </tr>\n",
       "    <tr>\n",
       "      <th>8</th>\n",
       "      <td>False</td>\n",
       "      <td>False</td>\n",
       "      <td>False</td>\n",
       "      <td>False</td>\n",
       "      <td>False</td>\n",
       "      <td>False</td>\n",
       "    </tr>\n",
       "    <tr>\n",
       "      <th>9</th>\n",
       "      <td>False</td>\n",
       "      <td>False</td>\n",
       "      <td>False</td>\n",
       "      <td>False</td>\n",
       "      <td>False</td>\n",
       "      <td>False</td>\n",
       "    </tr>\n",
       "    <tr>\n",
       "      <th>10</th>\n",
       "      <td>False</td>\n",
       "      <td>False</td>\n",
       "      <td>False</td>\n",
       "      <td>False</td>\n",
       "      <td>False</td>\n",
       "      <td>False</td>\n",
       "    </tr>\n",
       "    <tr>\n",
       "      <th>11</th>\n",
       "      <td>False</td>\n",
       "      <td>False</td>\n",
       "      <td>False</td>\n",
       "      <td>False</td>\n",
       "      <td>False</td>\n",
       "      <td>False</td>\n",
       "    </tr>\n",
       "    <tr>\n",
       "      <th>12</th>\n",
       "      <td>False</td>\n",
       "      <td>False</td>\n",
       "      <td>False</td>\n",
       "      <td>False</td>\n",
       "      <td>False</td>\n",
       "      <td>False</td>\n",
       "    </tr>\n",
       "    <tr>\n",
       "      <th>13</th>\n",
       "      <td>False</td>\n",
       "      <td>False</td>\n",
       "      <td>False</td>\n",
       "      <td>False</td>\n",
       "      <td>False</td>\n",
       "      <td>False</td>\n",
       "    </tr>\n",
       "    <tr>\n",
       "      <th>14</th>\n",
       "      <td>False</td>\n",
       "      <td>False</td>\n",
       "      <td>True</td>\n",
       "      <td>False</td>\n",
       "      <td>False</td>\n",
       "      <td>False</td>\n",
       "    </tr>\n",
       "    <tr>\n",
       "      <th>15</th>\n",
       "      <td>False</td>\n",
       "      <td>False</td>\n",
       "      <td>False</td>\n",
       "      <td>True</td>\n",
       "      <td>True</td>\n",
       "      <td>False</td>\n",
       "    </tr>\n",
       "    <tr>\n",
       "      <th>16</th>\n",
       "      <td>False</td>\n",
       "      <td>False</td>\n",
       "      <td>False</td>\n",
       "      <td>False</td>\n",
       "      <td>False</td>\n",
       "      <td>True</td>\n",
       "    </tr>\n",
       "  </tbody>\n",
       "</table>\n",
       "</div>"
      ],
      "text/plain": [
       "    student  semester  language  science  maths  history\n",
       "0     False     False     False    False  False    False\n",
       "1     False     False     False    False  False    False\n",
       "2     False     False     False    False  False    False\n",
       "3     False     False     False    False  False    False\n",
       "4     False     False     False    False  False    False\n",
       "5     False     False     False    False  False    False\n",
       "6     False     False     False    False  False    False\n",
       "7     False     False     False    False  False    False\n",
       "8     False     False     False    False  False    False\n",
       "9     False     False     False    False  False    False\n",
       "10    False     False     False    False  False    False\n",
       "11    False     False     False    False  False    False\n",
       "12    False     False     False    False  False    False\n",
       "13    False     False     False    False  False    False\n",
       "14    False     False      True    False  False    False\n",
       "15    False     False     False     True   True    False\n",
       "16    False     False     False    False  False     True"
      ]
     },
     "execution_count": 28,
     "metadata": {},
     "output_type": "execute_result"
    }
   ],
   "source": [
    "#returns true/false. True where a null value exists and false where it does not\n",
    "data.isnull()"
   ]
  },
  {
   "cell_type": "code",
   "execution_count": 29,
   "id": "bd0b6fae",
   "metadata": {
    "scrolled": true
   },
   "outputs": [
    {
     "data": {
      "text/plain": [
       "student     0\n",
       "semester    0\n",
       "language    1\n",
       "science     1\n",
       "maths       1\n",
       "history     1\n",
       "dtype: int64"
      ]
     },
     "execution_count": 29,
     "metadata": {},
     "output_type": "execute_result"
    }
   ],
   "source": [
    "#Return the number of missing values in each column\n",
    "data.isnull().sum()"
   ]
  },
  {
   "cell_type": "code",
   "execution_count": 30,
   "id": "f9c62b6e",
   "metadata": {},
   "outputs": [
    {
     "data": {
      "text/plain": [
       "student      9\n",
       "semester     2\n",
       "language    13\n",
       "science      9\n",
       "maths       13\n",
       "history     11\n",
       "dtype: int64"
      ]
     },
     "execution_count": 30,
     "metadata": {},
     "output_type": "execute_result"
    }
   ],
   "source": [
    "#Return number of unique elements in the object. \n",
    "data.nunique()"
   ]
  },
  {
   "cell_type": "code",
   "execution_count": 31,
   "id": "171755c5",
   "metadata": {
    "scrolled": true
   },
   "outputs": [
    {
     "data": {
      "text/html": [
       "<div>\n",
       "<style scoped>\n",
       "    .dataframe tbody tr th:only-of-type {\n",
       "        vertical-align: middle;\n",
       "    }\n",
       "\n",
       "    .dataframe tbody tr th {\n",
       "        vertical-align: top;\n",
       "    }\n",
       "\n",
       "    .dataframe thead th {\n",
       "        text-align: right;\n",
       "    }\n",
       "</style>\n",
       "<table border=\"1\" class=\"dataframe\">\n",
       "  <thead>\n",
       "    <tr style=\"text-align: right;\">\n",
       "      <th></th>\n",
       "      <th>student</th>\n",
       "      <th>semester</th>\n",
       "      <th>language</th>\n",
       "      <th>science</th>\n",
       "      <th>maths</th>\n",
       "      <th>history</th>\n",
       "    </tr>\n",
       "  </thead>\n",
       "  <tbody>\n",
       "    <tr>\n",
       "      <th>3</th>\n",
       "      <td>Aris</td>\n",
       "      <td>A</td>\n",
       "      <td>20.0</td>\n",
       "      <td>50.0</td>\n",
       "      <td>90.0</td>\n",
       "      <td>45.0</td>\n",
       "    </tr>\n",
       "    <tr>\n",
       "      <th>10</th>\n",
       "      <td>Aris</td>\n",
       "      <td>B</td>\n",
       "      <td>15.0</td>\n",
       "      <td>45.0</td>\n",
       "      <td>85.0</td>\n",
       "      <td>45.0</td>\n",
       "    </tr>\n",
       "    <tr>\n",
       "      <th>5</th>\n",
       "      <td>Kostas</td>\n",
       "      <td>A</td>\n",
       "      <td>90.0</td>\n",
       "      <td>45.0</td>\n",
       "      <td>80.0</td>\n",
       "      <td>34.0</td>\n",
       "    </tr>\n",
       "  </tbody>\n",
       "</table>\n",
       "</div>"
      ],
      "text/plain": [
       "   student semester  language  science  maths  history\n",
       "3     Aris        A      20.0     50.0   90.0     45.0\n",
       "10    Aris        B      15.0     45.0   85.0     45.0\n",
       "5   Kostas        A      90.0     45.0   80.0     34.0"
      ]
     },
     "execution_count": 31,
     "metadata": {},
     "output_type": "execute_result"
    }
   ],
   "source": [
    "#Returns the first n rows ordered by columns in descending order\n",
    "data.nlargest(3,\"maths\")"
   ]
  },
  {
   "cell_type": "code",
   "execution_count": 32,
   "id": "5561eada",
   "metadata": {},
   "outputs": [
    {
     "data": {
      "text/html": [
       "<div>\n",
       "<style scoped>\n",
       "    .dataframe tbody tr th:only-of-type {\n",
       "        vertical-align: middle;\n",
       "    }\n",
       "\n",
       "    .dataframe tbody tr th {\n",
       "        vertical-align: top;\n",
       "    }\n",
       "\n",
       "    .dataframe thead th {\n",
       "        text-align: right;\n",
       "    }\n",
       "</style>\n",
       "<table border=\"1\" class=\"dataframe\">\n",
       "  <thead>\n",
       "    <tr style=\"text-align: right;\">\n",
       "      <th></th>\n",
       "      <th>student</th>\n",
       "      <th>semester</th>\n",
       "      <th>language</th>\n",
       "      <th>science</th>\n",
       "      <th>maths</th>\n",
       "      <th>history</th>\n",
       "    </tr>\n",
       "  </thead>\n",
       "  <tbody>\n",
       "  </tbody>\n",
       "</table>\n",
       "</div>"
      ],
      "text/plain": [
       "Empty DataFrame\n",
       "Columns: [student, semester, language, science, maths, history]\n",
       "Index: []"
      ]
     },
     "execution_count": 32,
     "metadata": {},
     "output_type": "execute_result"
    }
   ],
   "source": [
    "# FILTER AND\n",
    "data[(data['semester']==1) & (data['science']>50)]"
   ]
  },
  {
   "cell_type": "code",
   "execution_count": 33,
   "id": "2146826a",
   "metadata": {},
   "outputs": [
    {
     "data": {
      "text/html": [
       "<div>\n",
       "<style scoped>\n",
       "    .dataframe tbody tr th:only-of-type {\n",
       "        vertical-align: middle;\n",
       "    }\n",
       "\n",
       "    .dataframe tbody tr th {\n",
       "        vertical-align: top;\n",
       "    }\n",
       "\n",
       "    .dataframe thead th {\n",
       "        text-align: right;\n",
       "    }\n",
       "</style>\n",
       "<table border=\"1\" class=\"dataframe\">\n",
       "  <thead>\n",
       "    <tr style=\"text-align: right;\">\n",
       "      <th></th>\n",
       "      <th>student</th>\n",
       "      <th>semester</th>\n",
       "      <th>language</th>\n",
       "      <th>science</th>\n",
       "      <th>maths</th>\n",
       "      <th>history</th>\n",
       "    </tr>\n",
       "  </thead>\n",
       "  <tbody>\n",
       "    <tr>\n",
       "      <th>0</th>\n",
       "      <td>Alkistis</td>\n",
       "      <td>A</td>\n",
       "      <td>90.0</td>\n",
       "      <td>56.0</td>\n",
       "      <td>34.0</td>\n",
       "      <td>34.0</td>\n",
       "    </tr>\n",
       "    <tr>\n",
       "      <th>4</th>\n",
       "      <td>Dimitris</td>\n",
       "      <td>A</td>\n",
       "      <td>30.0</td>\n",
       "      <td>56.0</td>\n",
       "      <td>45.0</td>\n",
       "      <td>65.0</td>\n",
       "    </tr>\n",
       "    <tr>\n",
       "      <th>6</th>\n",
       "      <td>Manos</td>\n",
       "      <td>A</td>\n",
       "      <td>50.0</td>\n",
       "      <td>90.0</td>\n",
       "      <td>45.0</td>\n",
       "      <td>23.0</td>\n",
       "    </tr>\n",
       "    <tr>\n",
       "      <th>7</th>\n",
       "      <td>Alkistis</td>\n",
       "      <td>B</td>\n",
       "      <td>87.0</td>\n",
       "      <td>51.0</td>\n",
       "      <td>29.0</td>\n",
       "      <td>29.0</td>\n",
       "    </tr>\n",
       "    <tr>\n",
       "      <th>11</th>\n",
       "      <td>Dimitris</td>\n",
       "      <td>B</td>\n",
       "      <td>25.0</td>\n",
       "      <td>51.0</td>\n",
       "      <td>64.0</td>\n",
       "      <td>60.0</td>\n",
       "    </tr>\n",
       "    <tr>\n",
       "      <th>13</th>\n",
       "      <td>Manos</td>\n",
       "      <td>B</td>\n",
       "      <td>67.0</td>\n",
       "      <td>90.0</td>\n",
       "      <td>45.0</td>\n",
       "      <td>34.0</td>\n",
       "    </tr>\n",
       "  </tbody>\n",
       "</table>\n",
       "</div>"
      ],
      "text/plain": [
       "     student semester  language  science  maths  history\n",
       "0   Alkistis        A      90.0     56.0   34.0     34.0\n",
       "4   Dimitris        A      30.0     56.0   45.0     65.0\n",
       "6      Manos        A      50.0     90.0   45.0     23.0\n",
       "7   Alkistis        B      87.0     51.0   29.0     29.0\n",
       "11  Dimitris        B      25.0     51.0   64.0     60.0\n",
       "13     Manos        B      67.0     90.0   45.0     34.0"
      ]
     },
     "execution_count": 33,
     "metadata": {},
     "output_type": "execute_result"
    }
   ],
   "source": [
    "#OR\n",
    "data[(data['semester']==1) | (data['science']>50)]"
   ]
  },
  {
   "cell_type": "code",
   "execution_count": 34,
   "id": "c49477da",
   "metadata": {
    "scrolled": true
   },
   "outputs": [
    {
     "data": {
      "text/plain": [
       "3         Aris\n",
       "5       Kostas\n",
       "10        Aris\n",
       "11    Dimitris\n",
       "12      Kostas\n",
       "Name: student, dtype: object"
      ]
     },
     "execution_count": 34,
     "metadata": {},
     "output_type": "execute_result"
    }
   ],
   "source": [
    "#Filter where Math scores are above 50 (only student)\n",
    "data['student'][data.maths>50]"
   ]
  },
  {
   "cell_type": "code",
   "execution_count": 35,
   "id": "787e0988",
   "metadata": {},
   "outputs": [
    {
     "data": {
      "text/plain": [
       "3         Aris\n",
       "5       Kostas\n",
       "10        Aris\n",
       "11    Dimitris\n",
       "12      Kostas\n",
       "Name: student, dtype: object"
      ]
     },
     "execution_count": 35,
     "metadata": {},
     "output_type": "execute_result"
    }
   ],
   "source": [
    "#Filter where Math scores are above 50 (only student)\n",
    "data['student'][data['maths']>50]"
   ]
  },
  {
   "cell_type": "code",
   "execution_count": 36,
   "id": "2e2dae76",
   "metadata": {
    "id": "2e2dae76"
   },
   "outputs": [],
   "source": [
    "my_data=data.copy()"
   ]
  },
  {
   "cell_type": "code",
   "execution_count": 37,
   "id": "f7cb6618",
   "metadata": {
    "id": "f7cb6618",
    "outputId": "72cb79cd-94df-4c4d-b2d7-e98fc9fc49e1"
   },
   "outputs": [
    {
     "name": "stdout",
     "output_type": "stream",
     "text": [
      "    student semester  language  science  maths  history\n",
      "0  Alkistis        A      90.0     56.0   34.0     34.0\n",
      "1     Eleni        A      10.0     40.0   32.0     67.0\n"
     ]
    }
   ],
   "source": [
    "print(data[:2])"
   ]
  },
  {
   "cell_type": "code",
   "execution_count": 38,
   "id": "16162f2c",
   "metadata": {
    "id": "16162f2c"
   },
   "outputs": [],
   "source": [
    "my_data_2=my_data.set_index('student')"
   ]
  },
  {
   "cell_type": "code",
   "execution_count": 39,
   "id": "a65efb24",
   "metadata": {
    "id": "a65efb24",
    "outputId": "58328d1a-328b-460d-d1bb-0c82ac472749"
   },
   "outputs": [
    {
     "name": "stdout",
     "output_type": "stream",
     "text": [
      "      student semester  language  science  maths  history\n",
      "0    Alkistis        A      90.0     56.0   34.0     34.0\n",
      "1       Eleni        A      10.0     40.0   32.0     67.0\n",
      "2   Christina        A      90.0     23.0   12.0     32.0\n",
      "3        Aris        A      20.0     50.0   90.0     45.0\n",
      "4    Dimitris        A      30.0     56.0   45.0     65.0\n",
      "5      Kostas        A      90.0     45.0   80.0     34.0\n",
      "6       Manos        A      50.0     90.0   45.0     23.0\n",
      "7    Alkistis        B      87.0     51.0   29.0     29.0\n",
      "8       Eleni        B       5.0     34.0   27.0     62.0\n",
      "9   Christina        B      85.0     18.0    9.0     27.0\n",
      "10       Aris        B      15.0     45.0   85.0     45.0\n",
      "11   Dimitris        B      25.0     51.0   64.0     60.0\n",
      "12     Kostas        B      90.0     45.0   80.0     50.0\n",
      "13      Manos        B      67.0     90.0   45.0     34.0\n",
      "14     Spyros        A       NaN     50.0   50.0     50.0\n",
      "15     Spyros        B      60.0      NaN    NaN     60.0\n",
      "16       John        A      40.0     40.0   30.0      NaN\n",
      "          semester  language  science  maths  history\n",
      "student                                              \n",
      "Alkistis         A      90.0     56.0   34.0     34.0\n",
      "Eleni            A      10.0     40.0   32.0     67.0\n",
      "Christina        A      90.0     23.0   12.0     32.0\n",
      "Aris             A      20.0     50.0   90.0     45.0\n",
      "Dimitris         A      30.0     56.0   45.0     65.0\n",
      "Kostas           A      90.0     45.0   80.0     34.0\n",
      "Manos            A      50.0     90.0   45.0     23.0\n",
      "Alkistis         B      87.0     51.0   29.0     29.0\n",
      "Eleni            B       5.0     34.0   27.0     62.0\n",
      "Christina        B      85.0     18.0    9.0     27.0\n",
      "Aris             B      15.0     45.0   85.0     45.0\n",
      "Dimitris         B      25.0     51.0   64.0     60.0\n",
      "Kostas           B      90.0     45.0   80.0     50.0\n",
      "Manos            B      67.0     90.0   45.0     34.0\n",
      "Spyros           A       NaN     50.0   50.0     50.0\n",
      "Spyros           B      60.0      NaN    NaN     60.0\n",
      "John             A      40.0     40.0   30.0      NaN\n"
     ]
    }
   ],
   "source": [
    "print(my_data)\n",
    "print(my_data_2)"
   ]
  },
  {
   "cell_type": "code",
   "execution_count": 40,
   "id": "8641c7b3",
   "metadata": {
    "id": "8641c7b3",
    "outputId": "a8ce11d6-f2c5-4949-d4b1-db1390bb8c9b"
   },
   "outputs": [
    {
     "name": "stdout",
     "output_type": "stream",
     "text": [
      "      student semester  language  science  maths  history\n",
      "0    Alkistis        A      90.0     56.0   34.0     34.0\n",
      "1       Eleni        A      10.0     40.0   32.0     67.0\n",
      "2   Christina        A      90.0     23.0   12.0     32.0\n",
      "3        Aris        A      20.0     50.0   90.0     45.0\n",
      "4    Dimitris        A      30.0     56.0   45.0     65.0\n",
      "5      Kostas        A      90.0     45.0   80.0     34.0\n",
      "6       Manos        A      50.0     90.0   45.0     23.0\n",
      "7    Alkistis        B      87.0     51.0   29.0     29.0\n",
      "8       Eleni        B       5.0     34.0   27.0     62.0\n",
      "9   Christina        B      85.0     18.0    9.0     27.0\n",
      "10       Aris        B      15.0     45.0   85.0     45.0\n",
      "11   Dimitris        B      25.0     51.0   64.0     60.0\n",
      "12     Kostas        B      90.0     45.0   80.0     50.0\n",
      "13      Manos        B      67.0     90.0   45.0     34.0\n",
      "14     Spyros        A       NaN     50.0   50.0     50.0\n",
      "15     Spyros        B      60.0      NaN    NaN     60.0\n",
      "16       John        A      40.0     40.0   30.0      NaN\n",
      "\n",
      "==================================================\n",
      "\n",
      "    student semester  language  science  maths  history\n",
      "0  Alkistis        A      90.0     56.0   34.0     34.0\n",
      "1     Eleni        A      10.0     40.0   32.0     67.0\n"
     ]
    }
   ],
   "source": [
    "print(my_data)\n",
    "print('\\n'+\"=\"*50+'\\n')\n",
    "print(my_data.iloc[:2])"
   ]
  },
  {
   "cell_type": "code",
   "execution_count": 41,
   "id": "ba728f0d",
   "metadata": {
    "id": "ba728f0d",
    "outputId": "097489d9-90d1-4aa6-889a-deabb5aa467d",
    "scrolled": true
   },
   "outputs": [
    {
     "name": "stdout",
     "output_type": "stream",
     "text": [
      "student     Christina\n",
      "semester            A\n",
      "language         90.0\n",
      "science          23.0\n",
      "maths            12.0\n",
      "history          32.0\n",
      "Name: 2, dtype: object\n"
     ]
    }
   ],
   "source": [
    "#print christina when index is numveric\n",
    "print(my_data.iloc[2])"
   ]
  },
  {
   "cell_type": "code",
   "execution_count": 42,
   "id": "dee9a3d1",
   "metadata": {
    "id": "dee9a3d1",
    "outputId": "723d1a64-a90e-4a4f-c60f-5e4825f9b46f"
   },
   "outputs": [
    {
     "name": "stdout",
     "output_type": "stream",
     "text": [
      "A\n"
     ]
    }
   ],
   "source": [
    "print(my_data.iloc[2][1])"
   ]
  },
  {
   "cell_type": "code",
   "execution_count": 43,
   "id": "d28a0ca3",
   "metadata": {
    "id": "d28a0ca3",
    "outputId": "bddc8465-619b-47aa-d1e6-8ff405465b07"
   },
   "outputs": [
    {
     "name": "stdout",
     "output_type": "stream",
     "text": [
      "          semester  language  science  maths  history\n",
      "student                                              \n",
      "Christina        A      90.0     23.0   12.0     32.0\n",
      "Christina        B      85.0     18.0    9.0     27.0\n"
     ]
    }
   ],
   "source": [
    "#print christina when index=student\n",
    "print(my_data_2.loc['Christina'])"
   ]
  },
  {
   "cell_type": "code",
   "execution_count": 44,
   "id": "65d3bda7",
   "metadata": {
    "id": "65d3bda7",
    "outputId": "34917594-f56c-4ce2-9e2c-113cc4df25cf"
   },
   "outputs": [
    {
     "name": "stdout",
     "output_type": "stream",
     "text": [
      "      student semester  language  science  maths  history\n",
      "0    Alkistis        A      90.0     56.0   34.0     34.0\n",
      "1       Eleni        A      10.0     40.0   32.0     67.0\n",
      "2   Christina        A      90.0     23.0   12.0     32.0\n",
      "3        Aris        A      20.0     50.0   90.0     45.0\n",
      "4    Dimitris        A      30.0     56.0   45.0     65.0\n",
      "5      Kostas        A      90.0     45.0   80.0     34.0\n",
      "7    Alkistis        B      87.0     51.0   29.0     29.0\n",
      "8       Eleni        B       5.0     34.0   27.0     62.0\n",
      "9   Christina        B      85.0     18.0    9.0     27.0\n",
      "10       Aris        B      15.0     45.0   85.0     45.0\n",
      "11   Dimitris        B      25.0     51.0   64.0     60.0\n",
      "12     Kostas        B      90.0     45.0   80.0     50.0\n",
      "13      Manos        B      67.0     90.0   45.0     34.0\n",
      "14     Spyros        A       NaN     50.0   50.0     50.0\n",
      "15     Spyros        B      60.0      NaN    NaN     60.0\n",
      "16       John        A      40.0     40.0   30.0      NaN\n",
      "\n",
      "==================================================\n",
      "\n",
      "      student semester  language  science  maths  history\n",
      "0    Alkistis        A      90.0     56.0   34.0     34.0\n",
      "1       Eleni        A      10.0     40.0   32.0     67.0\n",
      "2   Christina        A      90.0     23.0   12.0     32.0\n",
      "3        Aris        A      20.0     50.0   90.0     45.0\n",
      "4    Dimitris        A      30.0     56.0   45.0     65.0\n",
      "5      Kostas        A      90.0     45.0   80.0     34.0\n",
      "6       Manos        A      50.0     90.0   45.0     23.0\n",
      "7    Alkistis        B      87.0     51.0   29.0     29.0\n",
      "8       Eleni        B       5.0     34.0   27.0     62.0\n",
      "9   Christina        B      85.0     18.0    9.0     27.0\n",
      "10       Aris        B      15.0     45.0   85.0     45.0\n",
      "11   Dimitris        B      25.0     51.0   64.0     60.0\n",
      "12     Kostas        B      90.0     45.0   80.0     50.0\n",
      "13      Manos        B      67.0     90.0   45.0     34.0\n",
      "14     Spyros        A       NaN     50.0   50.0     50.0\n",
      "15     Spyros        B      60.0      NaN    NaN     60.0\n",
      "16       John        A      40.0     40.0   30.0      NaN\n"
     ]
    }
   ],
   "source": [
    "#drop an index\n",
    "my_data_3=data.drop(6)\n",
    "\n",
    "\n",
    "print(my_data_3)\n",
    "print('\\n'+\"=\"*50+'\\n')\n",
    "print(data)"
   ]
  },
  {
   "cell_type": "code",
   "execution_count": 45,
   "id": "7be53dd7",
   "metadata": {
    "scrolled": false
   },
   "outputs": [
    {
     "data": {
      "text/html": [
       "<div>\n",
       "<style scoped>\n",
       "    .dataframe tbody tr th:only-of-type {\n",
       "        vertical-align: middle;\n",
       "    }\n",
       "\n",
       "    .dataframe tbody tr th {\n",
       "        vertical-align: top;\n",
       "    }\n",
       "\n",
       "    .dataframe thead th {\n",
       "        text-align: right;\n",
       "    }\n",
       "</style>\n",
       "<table border=\"1\" class=\"dataframe\">\n",
       "  <thead>\n",
       "    <tr style=\"text-align: right;\">\n",
       "      <th></th>\n",
       "      <th>semester</th>\n",
       "      <th>language</th>\n",
       "      <th>science</th>\n",
       "      <th>maths</th>\n",
       "      <th>history</th>\n",
       "    </tr>\n",
       "    <tr>\n",
       "      <th>student</th>\n",
       "      <th></th>\n",
       "      <th></th>\n",
       "      <th></th>\n",
       "      <th></th>\n",
       "      <th></th>\n",
       "    </tr>\n",
       "  </thead>\n",
       "  <tbody>\n",
       "    <tr>\n",
       "      <th>Alkistis</th>\n",
       "      <td>2</td>\n",
       "      <td>2</td>\n",
       "      <td>2</td>\n",
       "      <td>2</td>\n",
       "      <td>2</td>\n",
       "    </tr>\n",
       "    <tr>\n",
       "      <th>Aris</th>\n",
       "      <td>2</td>\n",
       "      <td>2</td>\n",
       "      <td>2</td>\n",
       "      <td>2</td>\n",
       "      <td>2</td>\n",
       "    </tr>\n",
       "    <tr>\n",
       "      <th>Christina</th>\n",
       "      <td>2</td>\n",
       "      <td>2</td>\n",
       "      <td>2</td>\n",
       "      <td>2</td>\n",
       "      <td>2</td>\n",
       "    </tr>\n",
       "    <tr>\n",
       "      <th>Dimitris</th>\n",
       "      <td>2</td>\n",
       "      <td>2</td>\n",
       "      <td>2</td>\n",
       "      <td>2</td>\n",
       "      <td>2</td>\n",
       "    </tr>\n",
       "    <tr>\n",
       "      <th>Eleni</th>\n",
       "      <td>2</td>\n",
       "      <td>2</td>\n",
       "      <td>2</td>\n",
       "      <td>2</td>\n",
       "      <td>2</td>\n",
       "    </tr>\n",
       "    <tr>\n",
       "      <th>John</th>\n",
       "      <td>1</td>\n",
       "      <td>1</td>\n",
       "      <td>1</td>\n",
       "      <td>1</td>\n",
       "      <td>0</td>\n",
       "    </tr>\n",
       "    <tr>\n",
       "      <th>Kostas</th>\n",
       "      <td>2</td>\n",
       "      <td>2</td>\n",
       "      <td>2</td>\n",
       "      <td>2</td>\n",
       "      <td>2</td>\n",
       "    </tr>\n",
       "    <tr>\n",
       "      <th>Manos</th>\n",
       "      <td>2</td>\n",
       "      <td>2</td>\n",
       "      <td>2</td>\n",
       "      <td>2</td>\n",
       "      <td>2</td>\n",
       "    </tr>\n",
       "    <tr>\n",
       "      <th>Spyros</th>\n",
       "      <td>2</td>\n",
       "      <td>1</td>\n",
       "      <td>1</td>\n",
       "      <td>1</td>\n",
       "      <td>2</td>\n",
       "    </tr>\n",
       "  </tbody>\n",
       "</table>\n",
       "</div>"
      ],
      "text/plain": [
       "           semester  language  science  maths  history\n",
       "student                                               \n",
       "Alkistis          2         2        2      2        2\n",
       "Aris              2         2        2      2        2\n",
       "Christina         2         2        2      2        2\n",
       "Dimitris          2         2        2      2        2\n",
       "Eleni             2         2        2      2        2\n",
       "John              1         1        1      1        0\n",
       "Kostas            2         2        2      2        2\n",
       "Manos             2         2        2      2        2\n",
       "Spyros            2         1        1      1        2"
      ]
     },
     "execution_count": 45,
     "metadata": {},
     "output_type": "execute_result"
    }
   ],
   "source": [
    "#group by Student name and count\n",
    "data.groupby('student').count()"
   ]
  },
  {
   "cell_type": "code",
   "execution_count": 46,
   "id": "f448581c",
   "metadata": {
    "scrolled": false
   },
   "outputs": [
    {
     "data": {
      "text/html": [
       "<div>\n",
       "<style scoped>\n",
       "    .dataframe tbody tr th:only-of-type {\n",
       "        vertical-align: middle;\n",
       "    }\n",
       "\n",
       "    .dataframe tbody tr th {\n",
       "        vertical-align: top;\n",
       "    }\n",
       "\n",
       "    .dataframe thead th {\n",
       "        text-align: right;\n",
       "    }\n",
       "</style>\n",
       "<table border=\"1\" class=\"dataframe\">\n",
       "  <thead>\n",
       "    <tr style=\"text-align: right;\">\n",
       "      <th></th>\n",
       "      <th>language</th>\n",
       "      <th>science</th>\n",
       "      <th>maths</th>\n",
       "      <th>history</th>\n",
       "    </tr>\n",
       "    <tr>\n",
       "      <th>student</th>\n",
       "      <th></th>\n",
       "      <th></th>\n",
       "      <th></th>\n",
       "      <th></th>\n",
       "    </tr>\n",
       "  </thead>\n",
       "  <tbody>\n",
       "    <tr>\n",
       "      <th>Alkistis</th>\n",
       "      <td>177.0</td>\n",
       "      <td>107.0</td>\n",
       "      <td>63.0</td>\n",
       "      <td>63.0</td>\n",
       "    </tr>\n",
       "    <tr>\n",
       "      <th>Aris</th>\n",
       "      <td>35.0</td>\n",
       "      <td>95.0</td>\n",
       "      <td>175.0</td>\n",
       "      <td>90.0</td>\n",
       "    </tr>\n",
       "    <tr>\n",
       "      <th>Christina</th>\n",
       "      <td>175.0</td>\n",
       "      <td>41.0</td>\n",
       "      <td>21.0</td>\n",
       "      <td>59.0</td>\n",
       "    </tr>\n",
       "    <tr>\n",
       "      <th>Dimitris</th>\n",
       "      <td>55.0</td>\n",
       "      <td>107.0</td>\n",
       "      <td>109.0</td>\n",
       "      <td>125.0</td>\n",
       "    </tr>\n",
       "    <tr>\n",
       "      <th>Eleni</th>\n",
       "      <td>15.0</td>\n",
       "      <td>74.0</td>\n",
       "      <td>59.0</td>\n",
       "      <td>129.0</td>\n",
       "    </tr>\n",
       "    <tr>\n",
       "      <th>John</th>\n",
       "      <td>40.0</td>\n",
       "      <td>40.0</td>\n",
       "      <td>30.0</td>\n",
       "      <td>0.0</td>\n",
       "    </tr>\n",
       "    <tr>\n",
       "      <th>Kostas</th>\n",
       "      <td>180.0</td>\n",
       "      <td>90.0</td>\n",
       "      <td>160.0</td>\n",
       "      <td>84.0</td>\n",
       "    </tr>\n",
       "    <tr>\n",
       "      <th>Manos</th>\n",
       "      <td>117.0</td>\n",
       "      <td>180.0</td>\n",
       "      <td>90.0</td>\n",
       "      <td>57.0</td>\n",
       "    </tr>\n",
       "    <tr>\n",
       "      <th>Spyros</th>\n",
       "      <td>60.0</td>\n",
       "      <td>50.0</td>\n",
       "      <td>50.0</td>\n",
       "      <td>110.0</td>\n",
       "    </tr>\n",
       "  </tbody>\n",
       "</table>\n",
       "</div>"
      ],
      "text/plain": [
       "           language  science  maths  history\n",
       "student                                     \n",
       "Alkistis      177.0    107.0   63.0     63.0\n",
       "Aris           35.0     95.0  175.0     90.0\n",
       "Christina     175.0     41.0   21.0     59.0\n",
       "Dimitris       55.0    107.0  109.0    125.0\n",
       "Eleni          15.0     74.0   59.0    129.0\n",
       "John           40.0     40.0   30.0      0.0\n",
       "Kostas        180.0     90.0  160.0     84.0\n",
       "Manos         117.0    180.0   90.0     57.0\n",
       "Spyros         60.0     50.0   50.0    110.0"
      ]
     },
     "execution_count": 46,
     "metadata": {},
     "output_type": "execute_result"
    }
   ],
   "source": [
    "#group by Student name and count\n",
    "data.groupby('student').sum()"
   ]
  },
  {
   "cell_type": "code",
   "execution_count": 47,
   "id": "818f92ef",
   "metadata": {},
   "outputs": [
    {
     "data": {
      "text/html": [
       "<div>\n",
       "<style scoped>\n",
       "    .dataframe tbody tr th:only-of-type {\n",
       "        vertical-align: middle;\n",
       "    }\n",
       "\n",
       "    .dataframe tbody tr th {\n",
       "        vertical-align: top;\n",
       "    }\n",
       "\n",
       "    .dataframe thead th {\n",
       "        text-align: right;\n",
       "    }\n",
       "</style>\n",
       "<table border=\"1\" class=\"dataframe\">\n",
       "  <thead>\n",
       "    <tr style=\"text-align: right;\">\n",
       "      <th></th>\n",
       "      <th>language</th>\n",
       "      <th>science</th>\n",
       "      <th>maths</th>\n",
       "      <th>history</th>\n",
       "    </tr>\n",
       "    <tr>\n",
       "      <th>student</th>\n",
       "      <th></th>\n",
       "      <th></th>\n",
       "      <th></th>\n",
       "      <th></th>\n",
       "    </tr>\n",
       "  </thead>\n",
       "  <tbody>\n",
       "    <tr>\n",
       "      <th>Alkistis</th>\n",
       "      <td>88.5</td>\n",
       "      <td>53.5</td>\n",
       "      <td>31.5</td>\n",
       "      <td>31.5</td>\n",
       "    </tr>\n",
       "    <tr>\n",
       "      <th>Aris</th>\n",
       "      <td>17.5</td>\n",
       "      <td>47.5</td>\n",
       "      <td>87.5</td>\n",
       "      <td>45.0</td>\n",
       "    </tr>\n",
       "    <tr>\n",
       "      <th>Christina</th>\n",
       "      <td>87.5</td>\n",
       "      <td>20.5</td>\n",
       "      <td>10.5</td>\n",
       "      <td>29.5</td>\n",
       "    </tr>\n",
       "    <tr>\n",
       "      <th>Dimitris</th>\n",
       "      <td>27.5</td>\n",
       "      <td>53.5</td>\n",
       "      <td>54.5</td>\n",
       "      <td>62.5</td>\n",
       "    </tr>\n",
       "    <tr>\n",
       "      <th>Eleni</th>\n",
       "      <td>7.5</td>\n",
       "      <td>37.0</td>\n",
       "      <td>29.5</td>\n",
       "      <td>64.5</td>\n",
       "    </tr>\n",
       "    <tr>\n",
       "      <th>John</th>\n",
       "      <td>40.0</td>\n",
       "      <td>40.0</td>\n",
       "      <td>30.0</td>\n",
       "      <td>NaN</td>\n",
       "    </tr>\n",
       "    <tr>\n",
       "      <th>Kostas</th>\n",
       "      <td>90.0</td>\n",
       "      <td>45.0</td>\n",
       "      <td>80.0</td>\n",
       "      <td>42.0</td>\n",
       "    </tr>\n",
       "    <tr>\n",
       "      <th>Manos</th>\n",
       "      <td>58.5</td>\n",
       "      <td>90.0</td>\n",
       "      <td>45.0</td>\n",
       "      <td>28.5</td>\n",
       "    </tr>\n",
       "    <tr>\n",
       "      <th>Spyros</th>\n",
       "      <td>60.0</td>\n",
       "      <td>50.0</td>\n",
       "      <td>50.0</td>\n",
       "      <td>55.0</td>\n",
       "    </tr>\n",
       "  </tbody>\n",
       "</table>\n",
       "</div>"
      ],
      "text/plain": [
       "           language  science  maths  history\n",
       "student                                     \n",
       "Alkistis       88.5     53.5   31.5     31.5\n",
       "Aris           17.5     47.5   87.5     45.0\n",
       "Christina      87.5     20.5   10.5     29.5\n",
       "Dimitris       27.5     53.5   54.5     62.5\n",
       "Eleni           7.5     37.0   29.5     64.5\n",
       "John           40.0     40.0   30.0      NaN\n",
       "Kostas         90.0     45.0   80.0     42.0\n",
       "Manos          58.5     90.0   45.0     28.5\n",
       "Spyros         60.0     50.0   50.0     55.0"
      ]
     },
     "execution_count": 47,
     "metadata": {},
     "output_type": "execute_result"
    }
   ],
   "source": [
    "# Group by student with mean - what have done differently here?\n",
    "data.groupby('student').mean()\n"
   ]
  },
  {
   "cell_type": "code",
   "execution_count": 48,
   "id": "aca3491b",
   "metadata": {
    "scrolled": true
   },
   "outputs": [
    {
     "data": {
      "text/plain": [
       "student\n",
       "Alkistis     2\n",
       "Aris         2\n",
       "Christina    2\n",
       "Dimitris     2\n",
       "Eleni        2\n",
       "John         1\n",
       "Kostas       2\n",
       "Manos        2\n",
       "Spyros       2\n",
       "Name: semester, dtype: int64"
      ]
     },
     "execution_count": 48,
     "metadata": {},
     "output_type": "execute_result"
    }
   ],
   "source": [
    "#GroupBy student and semester with count\n",
    "data.groupby('student')['semester'].count()"
   ]
  },
  {
   "cell_type": "code",
   "execution_count": 49,
   "id": "645c79c4",
   "metadata": {},
   "outputs": [
    {
     "data": {
      "text/plain": [
       "student\n",
       "Alkistis     B\n",
       "Aris         B\n",
       "Christina    B\n",
       "Dimitris     B\n",
       "Eleni        B\n",
       "John         A\n",
       "Kostas       B\n",
       "Manos        B\n",
       "Spyros       B\n",
       "Name: semester, dtype: object"
      ]
     },
     "execution_count": 49,
     "metadata": {},
     "output_type": "execute_result"
    }
   ],
   "source": [
    "#GroupBy student and semester with count\n",
    "data.groupby('student')['semester'].max()"
   ]
  },
  {
   "cell_type": "code",
   "execution_count": 50,
   "id": "b6aa96d7",
   "metadata": {
    "id": "b6aa96d7",
    "outputId": "d01921f2-d6b6-47c0-ddbe-4a23cdb82a91"
   },
   "outputs": [
    {
     "name": "stdout",
     "output_type": "stream",
     "text": [
      "      student semester  language  science  maths  history\n",
      "0    Alkistis        A      90.0     56.0   34.0     34.0\n",
      "1       Eleni        A      10.0     40.0   32.0     67.0\n",
      "3        Aris        A      20.0     50.0   90.0     45.0\n",
      "5      Kostas        A      90.0     45.0   80.0     34.0\n",
      "6       Manos        A      50.0     90.0   45.0     23.0\n",
      "7    Alkistis        B      87.0     51.0   29.0     29.0\n",
      "9   Christina        B      85.0     18.0    9.0     27.0\n",
      "10       Aris        B      15.0     45.0   85.0     45.0\n",
      "11   Dimitris        B      25.0     51.0   64.0     60.0\n",
      "12     Kostas        B      90.0     45.0   80.0     50.0\n",
      "13      Manos        B      67.0     90.0   45.0     34.0\n",
      "14     Spyros        A       NaN     50.0   50.0     50.0\n",
      "15     Spyros        B      60.0      NaN    NaN     60.0\n",
      "16       John        A      40.0     40.0   30.0      NaN\n"
     ]
    }
   ],
   "source": [
    "#drop many indexes \n",
    "\n",
    "my_data_3=data.drop([2,4,8])\n",
    "print(my_data_3)"
   ]
  },
  {
   "cell_type": "code",
   "execution_count": 51,
   "id": "2df96a89",
   "metadata": {
    "id": "2df96a89",
    "outputId": "02018702-7719-4397-c1d6-2efc1c780ae9"
   },
   "outputs": [
    {
     "data": {
      "text/html": [
       "<div>\n",
       "<style scoped>\n",
       "    .dataframe tbody tr th:only-of-type {\n",
       "        vertical-align: middle;\n",
       "    }\n",
       "\n",
       "    .dataframe tbody tr th {\n",
       "        vertical-align: top;\n",
       "    }\n",
       "\n",
       "    .dataframe thead th {\n",
       "        text-align: right;\n",
       "    }\n",
       "</style>\n",
       "<table border=\"1\" class=\"dataframe\">\n",
       "  <thead>\n",
       "    <tr style=\"text-align: right;\">\n",
       "      <th></th>\n",
       "      <th>student</th>\n",
       "      <th>semester</th>\n",
       "      <th>language</th>\n",
       "      <th>science</th>\n",
       "      <th>maths</th>\n",
       "      <th>history</th>\n",
       "    </tr>\n",
       "  </thead>\n",
       "  <tbody>\n",
       "    <tr>\n",
       "      <th>0</th>\n",
       "      <td>Alkistis</td>\n",
       "      <td>A</td>\n",
       "      <td>90.0</td>\n",
       "      <td>56.0</td>\n",
       "      <td>34.0</td>\n",
       "      <td>34.0</td>\n",
       "    </tr>\n",
       "    <tr>\n",
       "      <th>1</th>\n",
       "      <td>Eleni</td>\n",
       "      <td>A</td>\n",
       "      <td>10.0</td>\n",
       "      <td>40.0</td>\n",
       "      <td>32.0</td>\n",
       "      <td>67.0</td>\n",
       "    </tr>\n",
       "    <tr>\n",
       "      <th>2</th>\n",
       "      <td>Christina</td>\n",
       "      <td>A</td>\n",
       "      <td>90.0</td>\n",
       "      <td>23.0</td>\n",
       "      <td>12.0</td>\n",
       "      <td>32.0</td>\n",
       "    </tr>\n",
       "    <tr>\n",
       "      <th>3</th>\n",
       "      <td>Aris</td>\n",
       "      <td>A</td>\n",
       "      <td>20.0</td>\n",
       "      <td>50.0</td>\n",
       "      <td>90.0</td>\n",
       "      <td>45.0</td>\n",
       "    </tr>\n",
       "    <tr>\n",
       "      <th>4</th>\n",
       "      <td>Dimitris</td>\n",
       "      <td>A</td>\n",
       "      <td>30.0</td>\n",
       "      <td>56.0</td>\n",
       "      <td>45.0</td>\n",
       "      <td>65.0</td>\n",
       "    </tr>\n",
       "    <tr>\n",
       "      <th>5</th>\n",
       "      <td>Kostas</td>\n",
       "      <td>A</td>\n",
       "      <td>90.0</td>\n",
       "      <td>45.0</td>\n",
       "      <td>80.0</td>\n",
       "      <td>34.0</td>\n",
       "    </tr>\n",
       "    <tr>\n",
       "      <th>6</th>\n",
       "      <td>Manos</td>\n",
       "      <td>A</td>\n",
       "      <td>50.0</td>\n",
       "      <td>90.0</td>\n",
       "      <td>45.0</td>\n",
       "      <td>23.0</td>\n",
       "    </tr>\n",
       "    <tr>\n",
       "      <th>7</th>\n",
       "      <td>Alkistis</td>\n",
       "      <td>B</td>\n",
       "      <td>87.0</td>\n",
       "      <td>51.0</td>\n",
       "      <td>29.0</td>\n",
       "      <td>29.0</td>\n",
       "    </tr>\n",
       "    <tr>\n",
       "      <th>8</th>\n",
       "      <td>Eleni</td>\n",
       "      <td>B</td>\n",
       "      <td>5.0</td>\n",
       "      <td>34.0</td>\n",
       "      <td>27.0</td>\n",
       "      <td>62.0</td>\n",
       "    </tr>\n",
       "    <tr>\n",
       "      <th>9</th>\n",
       "      <td>Christina</td>\n",
       "      <td>B</td>\n",
       "      <td>85.0</td>\n",
       "      <td>18.0</td>\n",
       "      <td>9.0</td>\n",
       "      <td>27.0</td>\n",
       "    </tr>\n",
       "    <tr>\n",
       "      <th>10</th>\n",
       "      <td>Aris</td>\n",
       "      <td>B</td>\n",
       "      <td>15.0</td>\n",
       "      <td>45.0</td>\n",
       "      <td>85.0</td>\n",
       "      <td>45.0</td>\n",
       "    </tr>\n",
       "    <tr>\n",
       "      <th>11</th>\n",
       "      <td>Dimitris</td>\n",
       "      <td>B</td>\n",
       "      <td>25.0</td>\n",
       "      <td>51.0</td>\n",
       "      <td>64.0</td>\n",
       "      <td>60.0</td>\n",
       "    </tr>\n",
       "    <tr>\n",
       "      <th>12</th>\n",
       "      <td>Kostas</td>\n",
       "      <td>B</td>\n",
       "      <td>90.0</td>\n",
       "      <td>45.0</td>\n",
       "      <td>80.0</td>\n",
       "      <td>50.0</td>\n",
       "    </tr>\n",
       "    <tr>\n",
       "      <th>13</th>\n",
       "      <td>Manos</td>\n",
       "      <td>B</td>\n",
       "      <td>67.0</td>\n",
       "      <td>90.0</td>\n",
       "      <td>45.0</td>\n",
       "      <td>34.0</td>\n",
       "    </tr>\n",
       "    <tr>\n",
       "      <th>14</th>\n",
       "      <td>Spyros</td>\n",
       "      <td>A</td>\n",
       "      <td>NaN</td>\n",
       "      <td>50.0</td>\n",
       "      <td>50.0</td>\n",
       "      <td>50.0</td>\n",
       "    </tr>\n",
       "    <tr>\n",
       "      <th>15</th>\n",
       "      <td>Spyros</td>\n",
       "      <td>B</td>\n",
       "      <td>60.0</td>\n",
       "      <td>NaN</td>\n",
       "      <td>NaN</td>\n",
       "      <td>60.0</td>\n",
       "    </tr>\n",
       "    <tr>\n",
       "      <th>16</th>\n",
       "      <td>John</td>\n",
       "      <td>A</td>\n",
       "      <td>40.0</td>\n",
       "      <td>40.0</td>\n",
       "      <td>30.0</td>\n",
       "      <td>NaN</td>\n",
       "    </tr>\n",
       "  </tbody>\n",
       "</table>\n",
       "</div>"
      ],
      "text/plain": [
       "      student semester  language  science  maths  history\n",
       "0    Alkistis        A      90.0     56.0   34.0     34.0\n",
       "1       Eleni        A      10.0     40.0   32.0     67.0\n",
       "2   Christina        A      90.0     23.0   12.0     32.0\n",
       "3        Aris        A      20.0     50.0   90.0     45.0\n",
       "4    Dimitris        A      30.0     56.0   45.0     65.0\n",
       "5      Kostas        A      90.0     45.0   80.0     34.0\n",
       "6       Manos        A      50.0     90.0   45.0     23.0\n",
       "7    Alkistis        B      87.0     51.0   29.0     29.0\n",
       "8       Eleni        B       5.0     34.0   27.0     62.0\n",
       "9   Christina        B      85.0     18.0    9.0     27.0\n",
       "10       Aris        B      15.0     45.0   85.0     45.0\n",
       "11   Dimitris        B      25.0     51.0   64.0     60.0\n",
       "12     Kostas        B      90.0     45.0   80.0     50.0\n",
       "13      Manos        B      67.0     90.0   45.0     34.0\n",
       "14     Spyros        A       NaN     50.0   50.0     50.0\n",
       "15     Spyros        B      60.0      NaN    NaN     60.0\n",
       "16       John        A      40.0     40.0   30.0      NaN"
      ]
     },
     "execution_count": 51,
     "metadata": {},
     "output_type": "execute_result"
    }
   ],
   "source": [
    "data"
   ]
  },
  {
   "cell_type": "code",
   "execution_count": 52,
   "id": "56fd3feb",
   "metadata": {
    "id": "56fd3feb",
    "outputId": "4d366e66-15b5-46dc-eccd-371f109770cf"
   },
   "outputs": [
    {
     "name": "stdout",
     "output_type": "stream",
     "text": [
      "      student semester  language  science  maths  history\n",
      "0    Alkistis        A      90.0     56.0   34.0     34.0\n",
      "1       Eleni        A      10.0     40.0   32.0     67.0\n",
      "2   Christina        A      90.0     23.0   12.0     32.0\n",
      "3        Aris        A      20.0     50.0   90.0     45.0\n",
      "4    Dimitris        A      30.0     56.0   45.0     65.0\n",
      "5      Kostas        A      90.0     45.0   80.0     34.0\n",
      "6       Manos        A      50.0     90.0   45.0     23.0\n",
      "7    Alkistis        B      87.0     51.0   29.0     29.0\n",
      "8       Eleni        B       5.0     34.0   27.0     62.0\n",
      "9   Christina        B      85.0     18.0    9.0     27.0\n",
      "10       Aris        B      15.0     45.0   85.0     45.0\n",
      "11   Dimitris        B      25.0     51.0   64.0     60.0\n",
      "12     Kostas        B      90.0     45.0   80.0     50.0\n",
      "13      Manos        B      67.0     90.0   45.0     34.0\n"
     ]
    }
   ],
   "source": [
    "my_data_3=data.dropna()\n",
    "print(my_data_3)"
   ]
  },
  {
   "cell_type": "code",
   "execution_count": 53,
   "id": "d963ac85",
   "metadata": {
    "id": "d963ac85",
    "outputId": "fcb53ec7-4056-4ec8-a732-f8cc9041f913"
   },
   "outputs": [
    {
     "name": "stdout",
     "output_type": "stream",
     "text": [
      "      student semester  language  science  maths  history\n",
      "0    Alkistis        A      90.0     56.0   34.0     34.0\n",
      "1       Eleni        A      10.0     40.0   32.0     67.0\n",
      "2   Christina        A      90.0     23.0   12.0     32.0\n",
      "3        Aris        A      20.0     50.0   90.0     45.0\n",
      "4    Dimitris        A      30.0     56.0   45.0     65.0\n",
      "5      Kostas        A      90.0     45.0   80.0     34.0\n",
      "6       Manos        A      50.0     90.0   45.0     23.0\n",
      "7    Alkistis        B      87.0     51.0   29.0     29.0\n",
      "8       Eleni        B       5.0     34.0   27.0     62.0\n",
      "9   Christina        B      85.0     18.0    9.0     27.0\n",
      "10       Aris        B      15.0     45.0   85.0     45.0\n",
      "11   Dimitris        B      25.0     51.0   64.0     60.0\n",
      "12     Kostas        B      90.0     45.0   80.0     50.0\n",
      "13      Manos        B      67.0     90.0   45.0     34.0\n",
      "14     Spyros        A       NaN     50.0   50.0     50.0\n",
      "16       John        A      40.0     40.0   30.0      NaN\n",
      "\n",
      "==================================================\n",
      "\n",
      "      student semester  language  science  maths  history\n",
      "0    Alkistis        A      90.0     56.0   34.0     34.0\n",
      "1       Eleni        A      10.0     40.0   32.0     67.0\n",
      "2   Christina        A      90.0     23.0   12.0     32.0\n",
      "3        Aris        A      20.0     50.0   90.0     45.0\n",
      "4    Dimitris        A      30.0     56.0   45.0     65.0\n",
      "5      Kostas        A      90.0     45.0   80.0     34.0\n",
      "6       Manos        A      50.0     90.0   45.0     23.0\n",
      "7    Alkistis        B      87.0     51.0   29.0     29.0\n",
      "8       Eleni        B       5.0     34.0   27.0     62.0\n",
      "9   Christina        B      85.0     18.0    9.0     27.0\n",
      "10       Aris        B      15.0     45.0   85.0     45.0\n",
      "11   Dimitris        B      25.0     51.0   64.0     60.0\n",
      "12     Kostas        B      90.0     45.0   80.0     50.0\n",
      "13      Manos        B      67.0     90.0   45.0     34.0\n",
      "14     Spyros        A       NaN     50.0   50.0     50.0\n",
      "15     Spyros        B      60.0      NaN    NaN     60.0\n",
      "16       John        A      40.0     40.0   30.0      NaN\n"
     ]
    }
   ],
   "source": [
    "my_data_3=data.dropna(subset=['science'])\n",
    "print(my_data_3)\n",
    "print('\\n'+\"=\"*50+'\\n')\n",
    "print(data)"
   ]
  },
  {
   "cell_type": "code",
   "execution_count": 54,
   "id": "4a47d92f",
   "metadata": {
    "id": "4a47d92f",
    "outputId": "1d4776b9-a4ab-45c0-ad8f-28700ef41fca"
   },
   "outputs": [
    {
     "name": "stdout",
     "output_type": "stream",
     "text": [
      "      student semester\n",
      "0    Alkistis        A\n",
      "1       Eleni        A\n",
      "2   Christina        A\n",
      "3        Aris        A\n",
      "4    Dimitris        A\n",
      "5      Kostas        A\n",
      "6       Manos        A\n",
      "7    Alkistis        B\n",
      "8       Eleni        B\n",
      "9   Christina        B\n",
      "10       Aris        B\n",
      "11   Dimitris        B\n",
      "12     Kostas        B\n",
      "13      Manos        B\n",
      "14     Spyros        A\n",
      "15     Spyros        B\n",
      "16       John        A\n",
      "\n",
      "==================================================\n",
      "\n",
      "      student semester  language  science  maths  history\n",
      "0    Alkistis        A      90.0     56.0   34.0     34.0\n",
      "1       Eleni        A      10.0     40.0   32.0     67.0\n",
      "2   Christina        A      90.0     23.0   12.0     32.0\n",
      "3        Aris        A      20.0     50.0   90.0     45.0\n",
      "4    Dimitris        A      30.0     56.0   45.0     65.0\n",
      "5      Kostas        A      90.0     45.0   80.0     34.0\n",
      "6       Manos        A      50.0     90.0   45.0     23.0\n",
      "7    Alkistis        B      87.0     51.0   29.0     29.0\n",
      "8       Eleni        B       5.0     34.0   27.0     62.0\n",
      "9   Christina        B      85.0     18.0    9.0     27.0\n",
      "10       Aris        B      15.0     45.0   85.0     45.0\n",
      "11   Dimitris        B      25.0     51.0   64.0     60.0\n",
      "12     Kostas        B      90.0     45.0   80.0     50.0\n",
      "13      Manos        B      67.0     90.0   45.0     34.0\n",
      "14     Spyros        A       NaN     50.0   50.0     50.0\n",
      "15     Spyros        B      60.0      NaN    NaN     60.0\n",
      "16       John        A      40.0     40.0   30.0      NaN\n"
     ]
    }
   ],
   "source": [
    "my_data_3=data.dropna(axis='columns')\n",
    "print(my_data_3)\n",
    "print('\\n'+\"=\"*50+'\\n')\n",
    "print(data)"
   ]
  },
  {
   "cell_type": "code",
   "execution_count": 55,
   "id": "c64090e7",
   "metadata": {
    "id": "c64090e7"
   },
   "outputs": [],
   "source": [
    "data.dropna(inplace=True)"
   ]
  },
  {
   "cell_type": "code",
   "execution_count": 56,
   "id": "c0079d5c",
   "metadata": {
    "id": "c0079d5c",
    "outputId": "8bb372f0-85cd-4ed8-90a9-0edd8389cf46"
   },
   "outputs": [
    {
     "name": "stdout",
     "output_type": "stream",
     "text": [
      "      student semester  language  science  maths  history\n",
      "1       Eleni        A      10.0     40.0   32.0     67.0\n",
      "4    Dimitris        A      30.0     56.0   45.0     65.0\n",
      "8       Eleni        B       5.0     34.0   27.0     62.0\n",
      "11   Dimitris        B      25.0     51.0   64.0     60.0\n",
      "12     Kostas        B      90.0     45.0   80.0     50.0\n",
      "3        Aris        A      20.0     50.0   90.0     45.0\n",
      "10       Aris        B      15.0     45.0   85.0     45.0\n",
      "0    Alkistis        A      90.0     56.0   34.0     34.0\n",
      "5      Kostas        A      90.0     45.0   80.0     34.0\n",
      "13      Manos        B      67.0     90.0   45.0     34.0\n",
      "2   Christina        A      90.0     23.0   12.0     32.0\n",
      "7    Alkistis        B      87.0     51.0   29.0     29.0\n",
      "9   Christina        B      85.0     18.0    9.0     27.0\n",
      "6       Manos        A      50.0     90.0   45.0     23.0\n",
      "\n",
      "==================================================\n",
      "\n",
      "      student semester  language  science  maths  history\n",
      "0    Alkistis        A      90.0     56.0   34.0     34.0\n",
      "1       Eleni        A      10.0     40.0   32.0     67.0\n",
      "2   Christina        A      90.0     23.0   12.0     32.0\n",
      "3        Aris        A      20.0     50.0   90.0     45.0\n",
      "4    Dimitris        A      30.0     56.0   45.0     65.0\n",
      "5      Kostas        A      90.0     45.0   80.0     34.0\n",
      "6       Manos        A      50.0     90.0   45.0     23.0\n",
      "7    Alkistis        B      87.0     51.0   29.0     29.0\n",
      "8       Eleni        B       5.0     34.0   27.0     62.0\n",
      "9   Christina        B      85.0     18.0    9.0     27.0\n",
      "10       Aris        B      15.0     45.0   85.0     45.0\n",
      "11   Dimitris        B      25.0     51.0   64.0     60.0\n",
      "12     Kostas        B      90.0     45.0   80.0     50.0\n",
      "13      Manos        B      67.0     90.0   45.0     34.0\n"
     ]
    }
   ],
   "source": [
    "#sort by column\n",
    "\n",
    "my_data_3=data.sort_values('history',ascending=False)\n",
    "print(my_data_3)\n",
    "print('\\n'+\"=\"*50+'\\n')\n",
    "print(data)"
   ]
  },
  {
   "cell_type": "code",
   "execution_count": 57,
   "id": "786e3ea8",
   "metadata": {
    "id": "786e3ea8",
    "outputId": "b288e8af-9212-442e-8ff9-8d24868810ad"
   },
   "outputs": [
    {
     "data": {
      "text/plain": [
       "student     Manos\n",
       "semester        B\n",
       "language     90.0\n",
       "science      90.0\n",
       "maths        90.0\n",
       "history      67.0\n",
       "dtype: object"
      ]
     },
     "execution_count": 57,
     "metadata": {},
     "output_type": "execute_result"
    }
   ],
   "source": [
    "#max of each column\n",
    "data.max()"
   ]
  },
  {
   "cell_type": "code",
   "execution_count": 58,
   "id": "af58d9fe",
   "metadata": {
    "id": "af58d9fe",
    "outputId": "fe38a22f-5584-4c5e-ed11-6b15a1193992"
   },
   "outputs": [
    {
     "data": {
      "text/html": [
       "<div>\n",
       "<style scoped>\n",
       "    .dataframe tbody tr th:only-of-type {\n",
       "        vertical-align: middle;\n",
       "    }\n",
       "\n",
       "    .dataframe tbody tr th {\n",
       "        vertical-align: top;\n",
       "    }\n",
       "\n",
       "    .dataframe thead th {\n",
       "        text-align: right;\n",
       "    }\n",
       "</style>\n",
       "<table border=\"1\" class=\"dataframe\">\n",
       "  <thead>\n",
       "    <tr style=\"text-align: right;\">\n",
       "      <th></th>\n",
       "      <th>student</th>\n",
       "      <th>semester</th>\n",
       "      <th>language</th>\n",
       "      <th>science</th>\n",
       "      <th>maths</th>\n",
       "      <th>history</th>\n",
       "    </tr>\n",
       "  </thead>\n",
       "  <tbody>\n",
       "    <tr>\n",
       "      <th>0</th>\n",
       "      <td>Alkistis</td>\n",
       "      <td>A</td>\n",
       "      <td>90.0</td>\n",
       "      <td>56.0</td>\n",
       "      <td>34.0</td>\n",
       "      <td>34.0</td>\n",
       "    </tr>\n",
       "    <tr>\n",
       "      <th>1</th>\n",
       "      <td>Eleni</td>\n",
       "      <td>A</td>\n",
       "      <td>10.0</td>\n",
       "      <td>40.0</td>\n",
       "      <td>32.0</td>\n",
       "      <td>67.0</td>\n",
       "    </tr>\n",
       "    <tr>\n",
       "      <th>2</th>\n",
       "      <td>Christina</td>\n",
       "      <td>A</td>\n",
       "      <td>90.0</td>\n",
       "      <td>23.0</td>\n",
       "      <td>12.0</td>\n",
       "      <td>32.0</td>\n",
       "    </tr>\n",
       "    <tr>\n",
       "      <th>3</th>\n",
       "      <td>Aris</td>\n",
       "      <td>A</td>\n",
       "      <td>20.0</td>\n",
       "      <td>50.0</td>\n",
       "      <td>90.0</td>\n",
       "      <td>45.0</td>\n",
       "    </tr>\n",
       "    <tr>\n",
       "      <th>4</th>\n",
       "      <td>Dimitris</td>\n",
       "      <td>A</td>\n",
       "      <td>30.0</td>\n",
       "      <td>56.0</td>\n",
       "      <td>45.0</td>\n",
       "      <td>65.0</td>\n",
       "    </tr>\n",
       "    <tr>\n",
       "      <th>5</th>\n",
       "      <td>Kostas</td>\n",
       "      <td>A</td>\n",
       "      <td>90.0</td>\n",
       "      <td>45.0</td>\n",
       "      <td>80.0</td>\n",
       "      <td>34.0</td>\n",
       "    </tr>\n",
       "    <tr>\n",
       "      <th>6</th>\n",
       "      <td>Manos</td>\n",
       "      <td>A</td>\n",
       "      <td>50.0</td>\n",
       "      <td>90.0</td>\n",
       "      <td>45.0</td>\n",
       "      <td>23.0</td>\n",
       "    </tr>\n",
       "    <tr>\n",
       "      <th>7</th>\n",
       "      <td>Alkistis</td>\n",
       "      <td>B</td>\n",
       "      <td>87.0</td>\n",
       "      <td>51.0</td>\n",
       "      <td>29.0</td>\n",
       "      <td>29.0</td>\n",
       "    </tr>\n",
       "    <tr>\n",
       "      <th>8</th>\n",
       "      <td>Eleni</td>\n",
       "      <td>B</td>\n",
       "      <td>5.0</td>\n",
       "      <td>34.0</td>\n",
       "      <td>27.0</td>\n",
       "      <td>62.0</td>\n",
       "    </tr>\n",
       "    <tr>\n",
       "      <th>9</th>\n",
       "      <td>Christina</td>\n",
       "      <td>B</td>\n",
       "      <td>85.0</td>\n",
       "      <td>18.0</td>\n",
       "      <td>9.0</td>\n",
       "      <td>27.0</td>\n",
       "    </tr>\n",
       "    <tr>\n",
       "      <th>10</th>\n",
       "      <td>Aris</td>\n",
       "      <td>B</td>\n",
       "      <td>15.0</td>\n",
       "      <td>45.0</td>\n",
       "      <td>85.0</td>\n",
       "      <td>45.0</td>\n",
       "    </tr>\n",
       "    <tr>\n",
       "      <th>11</th>\n",
       "      <td>Dimitris</td>\n",
       "      <td>B</td>\n",
       "      <td>25.0</td>\n",
       "      <td>51.0</td>\n",
       "      <td>64.0</td>\n",
       "      <td>60.0</td>\n",
       "    </tr>\n",
       "    <tr>\n",
       "      <th>12</th>\n",
       "      <td>Kostas</td>\n",
       "      <td>B</td>\n",
       "      <td>90.0</td>\n",
       "      <td>45.0</td>\n",
       "      <td>80.0</td>\n",
       "      <td>50.0</td>\n",
       "    </tr>\n",
       "    <tr>\n",
       "      <th>13</th>\n",
       "      <td>Manos</td>\n",
       "      <td>B</td>\n",
       "      <td>67.0</td>\n",
       "      <td>90.0</td>\n",
       "      <td>45.0</td>\n",
       "      <td>34.0</td>\n",
       "    </tr>\n",
       "  </tbody>\n",
       "</table>\n",
       "</div>"
      ],
      "text/plain": [
       "      student semester  language  science  maths  history\n",
       "0    Alkistis        A      90.0     56.0   34.0     34.0\n",
       "1       Eleni        A      10.0     40.0   32.0     67.0\n",
       "2   Christina        A      90.0     23.0   12.0     32.0\n",
       "3        Aris        A      20.0     50.0   90.0     45.0\n",
       "4    Dimitris        A      30.0     56.0   45.0     65.0\n",
       "5      Kostas        A      90.0     45.0   80.0     34.0\n",
       "6       Manos        A      50.0     90.0   45.0     23.0\n",
       "7    Alkistis        B      87.0     51.0   29.0     29.0\n",
       "8       Eleni        B       5.0     34.0   27.0     62.0\n",
       "9   Christina        B      85.0     18.0    9.0     27.0\n",
       "10       Aris        B      15.0     45.0   85.0     45.0\n",
       "11   Dimitris        B      25.0     51.0   64.0     60.0\n",
       "12     Kostas        B      90.0     45.0   80.0     50.0\n",
       "13      Manos        B      67.0     90.0   45.0     34.0"
      ]
     },
     "execution_count": 58,
     "metadata": {},
     "output_type": "execute_result"
    }
   ],
   "source": [
    "data"
   ]
  },
  {
   "cell_type": "code",
   "execution_count": 59,
   "id": "8a744cbb",
   "metadata": {
    "id": "8a744cbb"
   },
   "outputs": [],
   "source": [
    "#Calculated Columns\n",
    "data['theoritical_avg']=(data['language']+data['history'])/2"
   ]
  },
  {
   "cell_type": "code",
   "execution_count": 60,
   "id": "182c4739",
   "metadata": {
    "id": "182c4739",
    "outputId": "dc5a2d54-41a9-4823-f8fc-be000d056672"
   },
   "outputs": [
    {
     "data": {
      "text/html": [
       "<div>\n",
       "<style scoped>\n",
       "    .dataframe tbody tr th:only-of-type {\n",
       "        vertical-align: middle;\n",
       "    }\n",
       "\n",
       "    .dataframe tbody tr th {\n",
       "        vertical-align: top;\n",
       "    }\n",
       "\n",
       "    .dataframe thead th {\n",
       "        text-align: right;\n",
       "    }\n",
       "</style>\n",
       "<table border=\"1\" class=\"dataframe\">\n",
       "  <thead>\n",
       "    <tr style=\"text-align: right;\">\n",
       "      <th></th>\n",
       "      <th>student</th>\n",
       "      <th>semester</th>\n",
       "      <th>language</th>\n",
       "      <th>science</th>\n",
       "      <th>maths</th>\n",
       "      <th>history</th>\n",
       "      <th>theoritical_avg</th>\n",
       "    </tr>\n",
       "  </thead>\n",
       "  <tbody>\n",
       "    <tr>\n",
       "      <th>0</th>\n",
       "      <td>Alkistis</td>\n",
       "      <td>A</td>\n",
       "      <td>90.0</td>\n",
       "      <td>56.0</td>\n",
       "      <td>34.0</td>\n",
       "      <td>34.0</td>\n",
       "      <td>62.0</td>\n",
       "    </tr>\n",
       "    <tr>\n",
       "      <th>1</th>\n",
       "      <td>Eleni</td>\n",
       "      <td>A</td>\n",
       "      <td>10.0</td>\n",
       "      <td>40.0</td>\n",
       "      <td>32.0</td>\n",
       "      <td>67.0</td>\n",
       "      <td>38.5</td>\n",
       "    </tr>\n",
       "    <tr>\n",
       "      <th>2</th>\n",
       "      <td>Christina</td>\n",
       "      <td>A</td>\n",
       "      <td>90.0</td>\n",
       "      <td>23.0</td>\n",
       "      <td>12.0</td>\n",
       "      <td>32.0</td>\n",
       "      <td>61.0</td>\n",
       "    </tr>\n",
       "    <tr>\n",
       "      <th>3</th>\n",
       "      <td>Aris</td>\n",
       "      <td>A</td>\n",
       "      <td>20.0</td>\n",
       "      <td>50.0</td>\n",
       "      <td>90.0</td>\n",
       "      <td>45.0</td>\n",
       "      <td>32.5</td>\n",
       "    </tr>\n",
       "    <tr>\n",
       "      <th>4</th>\n",
       "      <td>Dimitris</td>\n",
       "      <td>A</td>\n",
       "      <td>30.0</td>\n",
       "      <td>56.0</td>\n",
       "      <td>45.0</td>\n",
       "      <td>65.0</td>\n",
       "      <td>47.5</td>\n",
       "    </tr>\n",
       "    <tr>\n",
       "      <th>5</th>\n",
       "      <td>Kostas</td>\n",
       "      <td>A</td>\n",
       "      <td>90.0</td>\n",
       "      <td>45.0</td>\n",
       "      <td>80.0</td>\n",
       "      <td>34.0</td>\n",
       "      <td>62.0</td>\n",
       "    </tr>\n",
       "    <tr>\n",
       "      <th>6</th>\n",
       "      <td>Manos</td>\n",
       "      <td>A</td>\n",
       "      <td>50.0</td>\n",
       "      <td>90.0</td>\n",
       "      <td>45.0</td>\n",
       "      <td>23.0</td>\n",
       "      <td>36.5</td>\n",
       "    </tr>\n",
       "    <tr>\n",
       "      <th>7</th>\n",
       "      <td>Alkistis</td>\n",
       "      <td>B</td>\n",
       "      <td>87.0</td>\n",
       "      <td>51.0</td>\n",
       "      <td>29.0</td>\n",
       "      <td>29.0</td>\n",
       "      <td>58.0</td>\n",
       "    </tr>\n",
       "    <tr>\n",
       "      <th>8</th>\n",
       "      <td>Eleni</td>\n",
       "      <td>B</td>\n",
       "      <td>5.0</td>\n",
       "      <td>34.0</td>\n",
       "      <td>27.0</td>\n",
       "      <td>62.0</td>\n",
       "      <td>33.5</td>\n",
       "    </tr>\n",
       "    <tr>\n",
       "      <th>9</th>\n",
       "      <td>Christina</td>\n",
       "      <td>B</td>\n",
       "      <td>85.0</td>\n",
       "      <td>18.0</td>\n",
       "      <td>9.0</td>\n",
       "      <td>27.0</td>\n",
       "      <td>56.0</td>\n",
       "    </tr>\n",
       "    <tr>\n",
       "      <th>10</th>\n",
       "      <td>Aris</td>\n",
       "      <td>B</td>\n",
       "      <td>15.0</td>\n",
       "      <td>45.0</td>\n",
       "      <td>85.0</td>\n",
       "      <td>45.0</td>\n",
       "      <td>30.0</td>\n",
       "    </tr>\n",
       "    <tr>\n",
       "      <th>11</th>\n",
       "      <td>Dimitris</td>\n",
       "      <td>B</td>\n",
       "      <td>25.0</td>\n",
       "      <td>51.0</td>\n",
       "      <td>64.0</td>\n",
       "      <td>60.0</td>\n",
       "      <td>42.5</td>\n",
       "    </tr>\n",
       "    <tr>\n",
       "      <th>12</th>\n",
       "      <td>Kostas</td>\n",
       "      <td>B</td>\n",
       "      <td>90.0</td>\n",
       "      <td>45.0</td>\n",
       "      <td>80.0</td>\n",
       "      <td>50.0</td>\n",
       "      <td>70.0</td>\n",
       "    </tr>\n",
       "    <tr>\n",
       "      <th>13</th>\n",
       "      <td>Manos</td>\n",
       "      <td>B</td>\n",
       "      <td>67.0</td>\n",
       "      <td>90.0</td>\n",
       "      <td>45.0</td>\n",
       "      <td>34.0</td>\n",
       "      <td>50.5</td>\n",
       "    </tr>\n",
       "  </tbody>\n",
       "</table>\n",
       "</div>"
      ],
      "text/plain": [
       "      student semester  language  science  maths  history  theoritical_avg\n",
       "0    Alkistis        A      90.0     56.0   34.0     34.0             62.0\n",
       "1       Eleni        A      10.0     40.0   32.0     67.0             38.5\n",
       "2   Christina        A      90.0     23.0   12.0     32.0             61.0\n",
       "3        Aris        A      20.0     50.0   90.0     45.0             32.5\n",
       "4    Dimitris        A      30.0     56.0   45.0     65.0             47.5\n",
       "5      Kostas        A      90.0     45.0   80.0     34.0             62.0\n",
       "6       Manos        A      50.0     90.0   45.0     23.0             36.5\n",
       "7    Alkistis        B      87.0     51.0   29.0     29.0             58.0\n",
       "8       Eleni        B       5.0     34.0   27.0     62.0             33.5\n",
       "9   Christina        B      85.0     18.0    9.0     27.0             56.0\n",
       "10       Aris        B      15.0     45.0   85.0     45.0             30.0\n",
       "11   Dimitris        B      25.0     51.0   64.0     60.0             42.5\n",
       "12     Kostas        B      90.0     45.0   80.0     50.0             70.0\n",
       "13      Manos        B      67.0     90.0   45.0     34.0             50.5"
      ]
     },
     "execution_count": 60,
     "metadata": {},
     "output_type": "execute_result"
    }
   ],
   "source": [
    "data"
   ]
  },
  {
   "cell_type": "code",
   "execution_count": 61,
   "id": "b5625462",
   "metadata": {
    "id": "b5625462"
   },
   "outputs": [],
   "source": [
    "data['exact_sciences_avg']=(data['science']+data['maths'])/2"
   ]
  },
  {
   "cell_type": "code",
   "execution_count": 62,
   "id": "2e58ef27",
   "metadata": {
    "id": "2e58ef27",
    "outputId": "bde094b1-43fc-4931-db94-1afe5423de49"
   },
   "outputs": [
    {
     "data": {
      "text/html": [
       "<div>\n",
       "<style scoped>\n",
       "    .dataframe tbody tr th:only-of-type {\n",
       "        vertical-align: middle;\n",
       "    }\n",
       "\n",
       "    .dataframe tbody tr th {\n",
       "        vertical-align: top;\n",
       "    }\n",
       "\n",
       "    .dataframe thead th {\n",
       "        text-align: right;\n",
       "    }\n",
       "</style>\n",
       "<table border=\"1\" class=\"dataframe\">\n",
       "  <thead>\n",
       "    <tr style=\"text-align: right;\">\n",
       "      <th></th>\n",
       "      <th>student</th>\n",
       "      <th>semester</th>\n",
       "      <th>language</th>\n",
       "      <th>science</th>\n",
       "      <th>maths</th>\n",
       "      <th>history</th>\n",
       "      <th>theoritical_avg</th>\n",
       "      <th>exact_sciences_avg</th>\n",
       "    </tr>\n",
       "  </thead>\n",
       "  <tbody>\n",
       "    <tr>\n",
       "      <th>0</th>\n",
       "      <td>Alkistis</td>\n",
       "      <td>A</td>\n",
       "      <td>90.0</td>\n",
       "      <td>56.0</td>\n",
       "      <td>34.0</td>\n",
       "      <td>34.0</td>\n",
       "      <td>62.0</td>\n",
       "      <td>45.0</td>\n",
       "    </tr>\n",
       "    <tr>\n",
       "      <th>1</th>\n",
       "      <td>Eleni</td>\n",
       "      <td>A</td>\n",
       "      <td>10.0</td>\n",
       "      <td>40.0</td>\n",
       "      <td>32.0</td>\n",
       "      <td>67.0</td>\n",
       "      <td>38.5</td>\n",
       "      <td>36.0</td>\n",
       "    </tr>\n",
       "    <tr>\n",
       "      <th>2</th>\n",
       "      <td>Christina</td>\n",
       "      <td>A</td>\n",
       "      <td>90.0</td>\n",
       "      <td>23.0</td>\n",
       "      <td>12.0</td>\n",
       "      <td>32.0</td>\n",
       "      <td>61.0</td>\n",
       "      <td>17.5</td>\n",
       "    </tr>\n",
       "    <tr>\n",
       "      <th>3</th>\n",
       "      <td>Aris</td>\n",
       "      <td>A</td>\n",
       "      <td>20.0</td>\n",
       "      <td>50.0</td>\n",
       "      <td>90.0</td>\n",
       "      <td>45.0</td>\n",
       "      <td>32.5</td>\n",
       "      <td>70.0</td>\n",
       "    </tr>\n",
       "    <tr>\n",
       "      <th>4</th>\n",
       "      <td>Dimitris</td>\n",
       "      <td>A</td>\n",
       "      <td>30.0</td>\n",
       "      <td>56.0</td>\n",
       "      <td>45.0</td>\n",
       "      <td>65.0</td>\n",
       "      <td>47.5</td>\n",
       "      <td>50.5</td>\n",
       "    </tr>\n",
       "    <tr>\n",
       "      <th>5</th>\n",
       "      <td>Kostas</td>\n",
       "      <td>A</td>\n",
       "      <td>90.0</td>\n",
       "      <td>45.0</td>\n",
       "      <td>80.0</td>\n",
       "      <td>34.0</td>\n",
       "      <td>62.0</td>\n",
       "      <td>62.5</td>\n",
       "    </tr>\n",
       "    <tr>\n",
       "      <th>6</th>\n",
       "      <td>Manos</td>\n",
       "      <td>A</td>\n",
       "      <td>50.0</td>\n",
       "      <td>90.0</td>\n",
       "      <td>45.0</td>\n",
       "      <td>23.0</td>\n",
       "      <td>36.5</td>\n",
       "      <td>67.5</td>\n",
       "    </tr>\n",
       "    <tr>\n",
       "      <th>7</th>\n",
       "      <td>Alkistis</td>\n",
       "      <td>B</td>\n",
       "      <td>87.0</td>\n",
       "      <td>51.0</td>\n",
       "      <td>29.0</td>\n",
       "      <td>29.0</td>\n",
       "      <td>58.0</td>\n",
       "      <td>40.0</td>\n",
       "    </tr>\n",
       "    <tr>\n",
       "      <th>8</th>\n",
       "      <td>Eleni</td>\n",
       "      <td>B</td>\n",
       "      <td>5.0</td>\n",
       "      <td>34.0</td>\n",
       "      <td>27.0</td>\n",
       "      <td>62.0</td>\n",
       "      <td>33.5</td>\n",
       "      <td>30.5</td>\n",
       "    </tr>\n",
       "    <tr>\n",
       "      <th>9</th>\n",
       "      <td>Christina</td>\n",
       "      <td>B</td>\n",
       "      <td>85.0</td>\n",
       "      <td>18.0</td>\n",
       "      <td>9.0</td>\n",
       "      <td>27.0</td>\n",
       "      <td>56.0</td>\n",
       "      <td>13.5</td>\n",
       "    </tr>\n",
       "    <tr>\n",
       "      <th>10</th>\n",
       "      <td>Aris</td>\n",
       "      <td>B</td>\n",
       "      <td>15.0</td>\n",
       "      <td>45.0</td>\n",
       "      <td>85.0</td>\n",
       "      <td>45.0</td>\n",
       "      <td>30.0</td>\n",
       "      <td>65.0</td>\n",
       "    </tr>\n",
       "    <tr>\n",
       "      <th>11</th>\n",
       "      <td>Dimitris</td>\n",
       "      <td>B</td>\n",
       "      <td>25.0</td>\n",
       "      <td>51.0</td>\n",
       "      <td>64.0</td>\n",
       "      <td>60.0</td>\n",
       "      <td>42.5</td>\n",
       "      <td>57.5</td>\n",
       "    </tr>\n",
       "    <tr>\n",
       "      <th>12</th>\n",
       "      <td>Kostas</td>\n",
       "      <td>B</td>\n",
       "      <td>90.0</td>\n",
       "      <td>45.0</td>\n",
       "      <td>80.0</td>\n",
       "      <td>50.0</td>\n",
       "      <td>70.0</td>\n",
       "      <td>62.5</td>\n",
       "    </tr>\n",
       "    <tr>\n",
       "      <th>13</th>\n",
       "      <td>Manos</td>\n",
       "      <td>B</td>\n",
       "      <td>67.0</td>\n",
       "      <td>90.0</td>\n",
       "      <td>45.0</td>\n",
       "      <td>34.0</td>\n",
       "      <td>50.5</td>\n",
       "      <td>67.5</td>\n",
       "    </tr>\n",
       "  </tbody>\n",
       "</table>\n",
       "</div>"
      ],
      "text/plain": [
       "      student semester  language  science  maths  history  theoritical_avg  \\\n",
       "0    Alkistis        A      90.0     56.0   34.0     34.0             62.0   \n",
       "1       Eleni        A      10.0     40.0   32.0     67.0             38.5   \n",
       "2   Christina        A      90.0     23.0   12.0     32.0             61.0   \n",
       "3        Aris        A      20.0     50.0   90.0     45.0             32.5   \n",
       "4    Dimitris        A      30.0     56.0   45.0     65.0             47.5   \n",
       "5      Kostas        A      90.0     45.0   80.0     34.0             62.0   \n",
       "6       Manos        A      50.0     90.0   45.0     23.0             36.5   \n",
       "7    Alkistis        B      87.0     51.0   29.0     29.0             58.0   \n",
       "8       Eleni        B       5.0     34.0   27.0     62.0             33.5   \n",
       "9   Christina        B      85.0     18.0    9.0     27.0             56.0   \n",
       "10       Aris        B      15.0     45.0   85.0     45.0             30.0   \n",
       "11   Dimitris        B      25.0     51.0   64.0     60.0             42.5   \n",
       "12     Kostas        B      90.0     45.0   80.0     50.0             70.0   \n",
       "13      Manos        B      67.0     90.0   45.0     34.0             50.5   \n",
       "\n",
       "    exact_sciences_avg  \n",
       "0                 45.0  \n",
       "1                 36.0  \n",
       "2                 17.5  \n",
       "3                 70.0  \n",
       "4                 50.5  \n",
       "5                 62.5  \n",
       "6                 67.5  \n",
       "7                 40.0  \n",
       "8                 30.5  \n",
       "9                 13.5  \n",
       "10                65.0  \n",
       "11                57.5  \n",
       "12                62.5  \n",
       "13                67.5  "
      ]
     },
     "execution_count": 62,
     "metadata": {},
     "output_type": "execute_result"
    }
   ],
   "source": [
    "data"
   ]
  },
  {
   "cell_type": "code",
   "execution_count": 63,
   "id": "3da3e184",
   "metadata": {
    "id": "3da3e184"
   },
   "outputs": [],
   "source": [
    "# Filter or slice with condition\n",
    "data=data.loc[data['semester']==\"A\" ]"
   ]
  },
  {
   "cell_type": "code",
   "execution_count": 64,
   "id": "03d03908",
   "metadata": {
    "id": "03d03908",
    "outputId": "9d8a3d75-e560-49a0-87d2-f39865a96c00"
   },
   "outputs": [
    {
     "data": {
      "text/html": [
       "<div>\n",
       "<style scoped>\n",
       "    .dataframe tbody tr th:only-of-type {\n",
       "        vertical-align: middle;\n",
       "    }\n",
       "\n",
       "    .dataframe tbody tr th {\n",
       "        vertical-align: top;\n",
       "    }\n",
       "\n",
       "    .dataframe thead th {\n",
       "        text-align: right;\n",
       "    }\n",
       "</style>\n",
       "<table border=\"1\" class=\"dataframe\">\n",
       "  <thead>\n",
       "    <tr style=\"text-align: right;\">\n",
       "      <th></th>\n",
       "      <th>student</th>\n",
       "      <th>semester</th>\n",
       "      <th>language</th>\n",
       "      <th>science</th>\n",
       "      <th>maths</th>\n",
       "      <th>history</th>\n",
       "      <th>theoritical_avg</th>\n",
       "      <th>exact_sciences_avg</th>\n",
       "    </tr>\n",
       "  </thead>\n",
       "  <tbody>\n",
       "    <tr>\n",
       "      <th>0</th>\n",
       "      <td>Alkistis</td>\n",
       "      <td>A</td>\n",
       "      <td>90.0</td>\n",
       "      <td>56.0</td>\n",
       "      <td>34.0</td>\n",
       "      <td>34.0</td>\n",
       "      <td>62.0</td>\n",
       "      <td>45.0</td>\n",
       "    </tr>\n",
       "    <tr>\n",
       "      <th>1</th>\n",
       "      <td>Eleni</td>\n",
       "      <td>A</td>\n",
       "      <td>10.0</td>\n",
       "      <td>40.0</td>\n",
       "      <td>32.0</td>\n",
       "      <td>67.0</td>\n",
       "      <td>38.5</td>\n",
       "      <td>36.0</td>\n",
       "    </tr>\n",
       "    <tr>\n",
       "      <th>2</th>\n",
       "      <td>Christina</td>\n",
       "      <td>A</td>\n",
       "      <td>90.0</td>\n",
       "      <td>23.0</td>\n",
       "      <td>12.0</td>\n",
       "      <td>32.0</td>\n",
       "      <td>61.0</td>\n",
       "      <td>17.5</td>\n",
       "    </tr>\n",
       "    <tr>\n",
       "      <th>3</th>\n",
       "      <td>Aris</td>\n",
       "      <td>A</td>\n",
       "      <td>20.0</td>\n",
       "      <td>50.0</td>\n",
       "      <td>90.0</td>\n",
       "      <td>45.0</td>\n",
       "      <td>32.5</td>\n",
       "      <td>70.0</td>\n",
       "    </tr>\n",
       "    <tr>\n",
       "      <th>4</th>\n",
       "      <td>Dimitris</td>\n",
       "      <td>A</td>\n",
       "      <td>30.0</td>\n",
       "      <td>56.0</td>\n",
       "      <td>45.0</td>\n",
       "      <td>65.0</td>\n",
       "      <td>47.5</td>\n",
       "      <td>50.5</td>\n",
       "    </tr>\n",
       "    <tr>\n",
       "      <th>5</th>\n",
       "      <td>Kostas</td>\n",
       "      <td>A</td>\n",
       "      <td>90.0</td>\n",
       "      <td>45.0</td>\n",
       "      <td>80.0</td>\n",
       "      <td>34.0</td>\n",
       "      <td>62.0</td>\n",
       "      <td>62.5</td>\n",
       "    </tr>\n",
       "    <tr>\n",
       "      <th>6</th>\n",
       "      <td>Manos</td>\n",
       "      <td>A</td>\n",
       "      <td>50.0</td>\n",
       "      <td>90.0</td>\n",
       "      <td>45.0</td>\n",
       "      <td>23.0</td>\n",
       "      <td>36.5</td>\n",
       "      <td>67.5</td>\n",
       "    </tr>\n",
       "  </tbody>\n",
       "</table>\n",
       "</div>"
      ],
      "text/plain": [
       "     student semester  language  science  maths  history  theoritical_avg  \\\n",
       "0   Alkistis        A      90.0     56.0   34.0     34.0             62.0   \n",
       "1      Eleni        A      10.0     40.0   32.0     67.0             38.5   \n",
       "2  Christina        A      90.0     23.0   12.0     32.0             61.0   \n",
       "3       Aris        A      20.0     50.0   90.0     45.0             32.5   \n",
       "4   Dimitris        A      30.0     56.0   45.0     65.0             47.5   \n",
       "5     Kostas        A      90.0     45.0   80.0     34.0             62.0   \n",
       "6      Manos        A      50.0     90.0   45.0     23.0             36.5   \n",
       "\n",
       "   exact_sciences_avg  \n",
       "0                45.0  \n",
       "1                36.0  \n",
       "2                17.5  \n",
       "3                70.0  \n",
       "4                50.5  \n",
       "5                62.5  \n",
       "6                67.5  "
      ]
     },
     "execution_count": 64,
     "metadata": {},
     "output_type": "execute_result"
    }
   ],
   "source": [
    "data"
   ]
  },
  {
   "cell_type": "code",
   "execution_count": 65,
   "id": "045a637c",
   "metadata": {
    "id": "045a637c",
    "outputId": "474f17c0-69a0-42ef-e029-b3d71cf669ae"
   },
   "outputs": [],
   "source": [
    "data.loc[data['theoritical_avg']>=50,'theoritical_passORfail']='pass'\n"
   ]
  },
  {
   "cell_type": "code",
   "execution_count": 66,
   "id": "abef515d",
   "metadata": {
    "id": "abef515d",
    "outputId": "10a587ab-32a1-4f86-c0c1-a80ea398e7f8"
   },
   "outputs": [
    {
     "data": {
      "text/html": [
       "<div>\n",
       "<style scoped>\n",
       "    .dataframe tbody tr th:only-of-type {\n",
       "        vertical-align: middle;\n",
       "    }\n",
       "\n",
       "    .dataframe tbody tr th {\n",
       "        vertical-align: top;\n",
       "    }\n",
       "\n",
       "    .dataframe thead th {\n",
       "        text-align: right;\n",
       "    }\n",
       "</style>\n",
       "<table border=\"1\" class=\"dataframe\">\n",
       "  <thead>\n",
       "    <tr style=\"text-align: right;\">\n",
       "      <th></th>\n",
       "      <th>student</th>\n",
       "      <th>semester</th>\n",
       "      <th>language</th>\n",
       "      <th>science</th>\n",
       "      <th>maths</th>\n",
       "      <th>history</th>\n",
       "      <th>theoritical_avg</th>\n",
       "      <th>exact_sciences_avg</th>\n",
       "      <th>theoritical_passORfail</th>\n",
       "    </tr>\n",
       "  </thead>\n",
       "  <tbody>\n",
       "    <tr>\n",
       "      <th>0</th>\n",
       "      <td>Alkistis</td>\n",
       "      <td>A</td>\n",
       "      <td>90.0</td>\n",
       "      <td>56.0</td>\n",
       "      <td>34.0</td>\n",
       "      <td>34.0</td>\n",
       "      <td>62.0</td>\n",
       "      <td>45.0</td>\n",
       "      <td>pass</td>\n",
       "    </tr>\n",
       "    <tr>\n",
       "      <th>1</th>\n",
       "      <td>Eleni</td>\n",
       "      <td>A</td>\n",
       "      <td>10.0</td>\n",
       "      <td>40.0</td>\n",
       "      <td>32.0</td>\n",
       "      <td>67.0</td>\n",
       "      <td>38.5</td>\n",
       "      <td>36.0</td>\n",
       "      <td>NaN</td>\n",
       "    </tr>\n",
       "    <tr>\n",
       "      <th>2</th>\n",
       "      <td>Christina</td>\n",
       "      <td>A</td>\n",
       "      <td>90.0</td>\n",
       "      <td>23.0</td>\n",
       "      <td>12.0</td>\n",
       "      <td>32.0</td>\n",
       "      <td>61.0</td>\n",
       "      <td>17.5</td>\n",
       "      <td>pass</td>\n",
       "    </tr>\n",
       "    <tr>\n",
       "      <th>3</th>\n",
       "      <td>Aris</td>\n",
       "      <td>A</td>\n",
       "      <td>20.0</td>\n",
       "      <td>50.0</td>\n",
       "      <td>90.0</td>\n",
       "      <td>45.0</td>\n",
       "      <td>32.5</td>\n",
       "      <td>70.0</td>\n",
       "      <td>NaN</td>\n",
       "    </tr>\n",
       "    <tr>\n",
       "      <th>4</th>\n",
       "      <td>Dimitris</td>\n",
       "      <td>A</td>\n",
       "      <td>30.0</td>\n",
       "      <td>56.0</td>\n",
       "      <td>45.0</td>\n",
       "      <td>65.0</td>\n",
       "      <td>47.5</td>\n",
       "      <td>50.5</td>\n",
       "      <td>NaN</td>\n",
       "    </tr>\n",
       "    <tr>\n",
       "      <th>5</th>\n",
       "      <td>Kostas</td>\n",
       "      <td>A</td>\n",
       "      <td>90.0</td>\n",
       "      <td>45.0</td>\n",
       "      <td>80.0</td>\n",
       "      <td>34.0</td>\n",
       "      <td>62.0</td>\n",
       "      <td>62.5</td>\n",
       "      <td>pass</td>\n",
       "    </tr>\n",
       "    <tr>\n",
       "      <th>6</th>\n",
       "      <td>Manos</td>\n",
       "      <td>A</td>\n",
       "      <td>50.0</td>\n",
       "      <td>90.0</td>\n",
       "      <td>45.0</td>\n",
       "      <td>23.0</td>\n",
       "      <td>36.5</td>\n",
       "      <td>67.5</td>\n",
       "      <td>NaN</td>\n",
       "    </tr>\n",
       "  </tbody>\n",
       "</table>\n",
       "</div>"
      ],
      "text/plain": [
       "     student semester  language  science  maths  history  theoritical_avg  \\\n",
       "0   Alkistis        A      90.0     56.0   34.0     34.0             62.0   \n",
       "1      Eleni        A      10.0     40.0   32.0     67.0             38.5   \n",
       "2  Christina        A      90.0     23.0   12.0     32.0             61.0   \n",
       "3       Aris        A      20.0     50.0   90.0     45.0             32.5   \n",
       "4   Dimitris        A      30.0     56.0   45.0     65.0             47.5   \n",
       "5     Kostas        A      90.0     45.0   80.0     34.0             62.0   \n",
       "6      Manos        A      50.0     90.0   45.0     23.0             36.5   \n",
       "\n",
       "   exact_sciences_avg theoritical_passORfail  \n",
       "0                45.0                   pass  \n",
       "1                36.0                    NaN  \n",
       "2                17.5                   pass  \n",
       "3                70.0                    NaN  \n",
       "4                50.5                    NaN  \n",
       "5                62.5                   pass  \n",
       "6                67.5                    NaN  "
      ]
     },
     "execution_count": 66,
     "metadata": {},
     "output_type": "execute_result"
    }
   ],
   "source": [
    "data"
   ]
  },
  {
   "cell_type": "code",
   "execution_count": 67,
   "id": "297b60e3",
   "metadata": {
    "id": "297b60e3",
    "outputId": "2f72c1ed-4e7f-4491-a729-d0cd7082c26a"
   },
   "outputs": [
    {
     "data": {
      "text/html": [
       "<div>\n",
       "<style scoped>\n",
       "    .dataframe tbody tr th:only-of-type {\n",
       "        vertical-align: middle;\n",
       "    }\n",
       "\n",
       "    .dataframe tbody tr th {\n",
       "        vertical-align: top;\n",
       "    }\n",
       "\n",
       "    .dataframe thead th {\n",
       "        text-align: right;\n",
       "    }\n",
       "</style>\n",
       "<table border=\"1\" class=\"dataframe\">\n",
       "  <thead>\n",
       "    <tr style=\"text-align: right;\">\n",
       "      <th></th>\n",
       "      <th>student</th>\n",
       "      <th>semester</th>\n",
       "      <th>language</th>\n",
       "      <th>science</th>\n",
       "      <th>maths</th>\n",
       "      <th>history</th>\n",
       "      <th>theoritical_avg</th>\n",
       "      <th>exact_sciences_avg</th>\n",
       "      <th>theoritical_passORfail</th>\n",
       "    </tr>\n",
       "  </thead>\n",
       "  <tbody>\n",
       "    <tr>\n",
       "      <th>0</th>\n",
       "      <td>Alkistis</td>\n",
       "      <td>A</td>\n",
       "      <td>90.0</td>\n",
       "      <td>56.0</td>\n",
       "      <td>34.0</td>\n",
       "      <td>34.0</td>\n",
       "      <td>62.0</td>\n",
       "      <td>45.0</td>\n",
       "      <td>pass</td>\n",
       "    </tr>\n",
       "    <tr>\n",
       "      <th>1</th>\n",
       "      <td>Eleni</td>\n",
       "      <td>A</td>\n",
       "      <td>10.0</td>\n",
       "      <td>40.0</td>\n",
       "      <td>32.0</td>\n",
       "      <td>67.0</td>\n",
       "      <td>38.5</td>\n",
       "      <td>36.0</td>\n",
       "      <td>fail</td>\n",
       "    </tr>\n",
       "    <tr>\n",
       "      <th>2</th>\n",
       "      <td>Christina</td>\n",
       "      <td>A</td>\n",
       "      <td>90.0</td>\n",
       "      <td>23.0</td>\n",
       "      <td>12.0</td>\n",
       "      <td>32.0</td>\n",
       "      <td>61.0</td>\n",
       "      <td>17.5</td>\n",
       "      <td>pass</td>\n",
       "    </tr>\n",
       "    <tr>\n",
       "      <th>3</th>\n",
       "      <td>Aris</td>\n",
       "      <td>A</td>\n",
       "      <td>20.0</td>\n",
       "      <td>50.0</td>\n",
       "      <td>90.0</td>\n",
       "      <td>45.0</td>\n",
       "      <td>32.5</td>\n",
       "      <td>70.0</td>\n",
       "      <td>fail</td>\n",
       "    </tr>\n",
       "    <tr>\n",
       "      <th>4</th>\n",
       "      <td>Dimitris</td>\n",
       "      <td>A</td>\n",
       "      <td>30.0</td>\n",
       "      <td>56.0</td>\n",
       "      <td>45.0</td>\n",
       "      <td>65.0</td>\n",
       "      <td>47.5</td>\n",
       "      <td>50.5</td>\n",
       "      <td>fail</td>\n",
       "    </tr>\n",
       "    <tr>\n",
       "      <th>5</th>\n",
       "      <td>Kostas</td>\n",
       "      <td>A</td>\n",
       "      <td>90.0</td>\n",
       "      <td>45.0</td>\n",
       "      <td>80.0</td>\n",
       "      <td>34.0</td>\n",
       "      <td>62.0</td>\n",
       "      <td>62.5</td>\n",
       "      <td>pass</td>\n",
       "    </tr>\n",
       "    <tr>\n",
       "      <th>6</th>\n",
       "      <td>Manos</td>\n",
       "      <td>A</td>\n",
       "      <td>50.0</td>\n",
       "      <td>90.0</td>\n",
       "      <td>45.0</td>\n",
       "      <td>23.0</td>\n",
       "      <td>36.5</td>\n",
       "      <td>67.5</td>\n",
       "      <td>fail</td>\n",
       "    </tr>\n",
       "  </tbody>\n",
       "</table>\n",
       "</div>"
      ],
      "text/plain": [
       "     student semester  language  science  maths  history  theoritical_avg  \\\n",
       "0   Alkistis        A      90.0     56.0   34.0     34.0             62.0   \n",
       "1      Eleni        A      10.0     40.0   32.0     67.0             38.5   \n",
       "2  Christina        A      90.0     23.0   12.0     32.0             61.0   \n",
       "3       Aris        A      20.0     50.0   90.0     45.0             32.5   \n",
       "4   Dimitris        A      30.0     56.0   45.0     65.0             47.5   \n",
       "5     Kostas        A      90.0     45.0   80.0     34.0             62.0   \n",
       "6      Manos        A      50.0     90.0   45.0     23.0             36.5   \n",
       "\n",
       "   exact_sciences_avg theoritical_passORfail  \n",
       "0                45.0                   pass  \n",
       "1                36.0                   fail  \n",
       "2                17.5                   pass  \n",
       "3                70.0                   fail  \n",
       "4                50.5                   fail  \n",
       "5                62.5                   pass  \n",
       "6                67.5                   fail  "
      ]
     },
     "execution_count": 67,
     "metadata": {},
     "output_type": "execute_result"
    }
   ],
   "source": [
    "data.loc[data['theoritical_avg']<50,'theoritical_passORfail']='fail'\n",
    "data"
   ]
  },
  {
   "cell_type": "code",
   "execution_count": 68,
   "id": "aa37b0a9",
   "metadata": {
    "id": "aa37b0a9"
   },
   "outputs": [],
   "source": [
    "def pass_or_fail(num):\n",
    "    if num>=50:\n",
    "        result = 'pass'\n",
    "    else:\n",
    "        result ='fail'\n",
    "    return result\n"
   ]
  },
  {
   "cell_type": "code",
   "execution_count": 69,
   "id": "1d88041a",
   "metadata": {
    "id": "1d88041a",
    "outputId": "f9e259f5-d024-4e4e-de0c-a20386e385db"
   },
   "outputs": [],
   "source": [
    "data['exact_sciences_passORfail']=list(map(pass_or_fail, data['exact_sciences_avg']))"
   ]
  },
  {
   "cell_type": "code",
   "execution_count": 70,
   "id": "72745350",
   "metadata": {
    "id": "72745350",
    "outputId": "e456dfcf-e835-4e79-865d-ce29a7e0d564",
    "scrolled": true
   },
   "outputs": [
    {
     "data": {
      "text/html": [
       "<div>\n",
       "<style scoped>\n",
       "    .dataframe tbody tr th:only-of-type {\n",
       "        vertical-align: middle;\n",
       "    }\n",
       "\n",
       "    .dataframe tbody tr th {\n",
       "        vertical-align: top;\n",
       "    }\n",
       "\n",
       "    .dataframe thead th {\n",
       "        text-align: right;\n",
       "    }\n",
       "</style>\n",
       "<table border=\"1\" class=\"dataframe\">\n",
       "  <thead>\n",
       "    <tr style=\"text-align: right;\">\n",
       "      <th></th>\n",
       "      <th>student</th>\n",
       "      <th>semester</th>\n",
       "      <th>language</th>\n",
       "      <th>science</th>\n",
       "      <th>maths</th>\n",
       "      <th>history</th>\n",
       "      <th>theoritical_avg</th>\n",
       "      <th>exact_sciences_avg</th>\n",
       "      <th>theoritical_passORfail</th>\n",
       "      <th>exact_sciences_passORfail</th>\n",
       "    </tr>\n",
       "  </thead>\n",
       "  <tbody>\n",
       "    <tr>\n",
       "      <th>0</th>\n",
       "      <td>Alkistis</td>\n",
       "      <td>A</td>\n",
       "      <td>90.0</td>\n",
       "      <td>56.0</td>\n",
       "      <td>34.0</td>\n",
       "      <td>34.0</td>\n",
       "      <td>62.0</td>\n",
       "      <td>45.0</td>\n",
       "      <td>pass</td>\n",
       "      <td>fail</td>\n",
       "    </tr>\n",
       "    <tr>\n",
       "      <th>1</th>\n",
       "      <td>Eleni</td>\n",
       "      <td>A</td>\n",
       "      <td>10.0</td>\n",
       "      <td>40.0</td>\n",
       "      <td>32.0</td>\n",
       "      <td>67.0</td>\n",
       "      <td>38.5</td>\n",
       "      <td>36.0</td>\n",
       "      <td>fail</td>\n",
       "      <td>fail</td>\n",
       "    </tr>\n",
       "    <tr>\n",
       "      <th>2</th>\n",
       "      <td>Christina</td>\n",
       "      <td>A</td>\n",
       "      <td>90.0</td>\n",
       "      <td>23.0</td>\n",
       "      <td>12.0</td>\n",
       "      <td>32.0</td>\n",
       "      <td>61.0</td>\n",
       "      <td>17.5</td>\n",
       "      <td>pass</td>\n",
       "      <td>fail</td>\n",
       "    </tr>\n",
       "    <tr>\n",
       "      <th>3</th>\n",
       "      <td>Aris</td>\n",
       "      <td>A</td>\n",
       "      <td>20.0</td>\n",
       "      <td>50.0</td>\n",
       "      <td>90.0</td>\n",
       "      <td>45.0</td>\n",
       "      <td>32.5</td>\n",
       "      <td>70.0</td>\n",
       "      <td>fail</td>\n",
       "      <td>pass</td>\n",
       "    </tr>\n",
       "    <tr>\n",
       "      <th>4</th>\n",
       "      <td>Dimitris</td>\n",
       "      <td>A</td>\n",
       "      <td>30.0</td>\n",
       "      <td>56.0</td>\n",
       "      <td>45.0</td>\n",
       "      <td>65.0</td>\n",
       "      <td>47.5</td>\n",
       "      <td>50.5</td>\n",
       "      <td>fail</td>\n",
       "      <td>pass</td>\n",
       "    </tr>\n",
       "    <tr>\n",
       "      <th>5</th>\n",
       "      <td>Kostas</td>\n",
       "      <td>A</td>\n",
       "      <td>90.0</td>\n",
       "      <td>45.0</td>\n",
       "      <td>80.0</td>\n",
       "      <td>34.0</td>\n",
       "      <td>62.0</td>\n",
       "      <td>62.5</td>\n",
       "      <td>pass</td>\n",
       "      <td>pass</td>\n",
       "    </tr>\n",
       "    <tr>\n",
       "      <th>6</th>\n",
       "      <td>Manos</td>\n",
       "      <td>A</td>\n",
       "      <td>50.0</td>\n",
       "      <td>90.0</td>\n",
       "      <td>45.0</td>\n",
       "      <td>23.0</td>\n",
       "      <td>36.5</td>\n",
       "      <td>67.5</td>\n",
       "      <td>fail</td>\n",
       "      <td>pass</td>\n",
       "    </tr>\n",
       "  </tbody>\n",
       "</table>\n",
       "</div>"
      ],
      "text/plain": [
       "     student semester  language  science  maths  history  theoritical_avg  \\\n",
       "0   Alkistis        A      90.0     56.0   34.0     34.0             62.0   \n",
       "1      Eleni        A      10.0     40.0   32.0     67.0             38.5   \n",
       "2  Christina        A      90.0     23.0   12.0     32.0             61.0   \n",
       "3       Aris        A      20.0     50.0   90.0     45.0             32.5   \n",
       "4   Dimitris        A      30.0     56.0   45.0     65.0             47.5   \n",
       "5     Kostas        A      90.0     45.0   80.0     34.0             62.0   \n",
       "6      Manos        A      50.0     90.0   45.0     23.0             36.5   \n",
       "\n",
       "   exact_sciences_avg theoritical_passORfail exact_sciences_passORfail  \n",
       "0                45.0                   pass                      fail  \n",
       "1                36.0                   fail                      fail  \n",
       "2                17.5                   pass                      fail  \n",
       "3                70.0                   fail                      pass  \n",
       "4                50.5                   fail                      pass  \n",
       "5                62.5                   pass                      pass  \n",
       "6                67.5                   fail                      pass  "
      ]
     },
     "execution_count": 70,
     "metadata": {},
     "output_type": "execute_result"
    }
   ],
   "source": [
    "data"
   ]
  },
  {
   "cell_type": "code",
   "execution_count": 71,
   "id": "d809fc49",
   "metadata": {
    "id": "d809fc49",
    "outputId": "f4799dc3-1433-48cc-db6c-b4aaee55e8b7"
   },
   "outputs": [],
   "source": [
    "# replace with native replace function\n",
    "data['semester']=data['semester'].replace(\"A\",'first')"
   ]
  },
  {
   "cell_type": "code",
   "execution_count": 72,
   "id": "dab42682",
   "metadata": {
    "id": "dab42682",
    "outputId": "206ae8b5-5f96-4c11-96ef-129b3042575c"
   },
   "outputs": [
    {
     "data": {
      "text/html": [
       "<div>\n",
       "<style scoped>\n",
       "    .dataframe tbody tr th:only-of-type {\n",
       "        vertical-align: middle;\n",
       "    }\n",
       "\n",
       "    .dataframe tbody tr th {\n",
       "        vertical-align: top;\n",
       "    }\n",
       "\n",
       "    .dataframe thead th {\n",
       "        text-align: right;\n",
       "    }\n",
       "</style>\n",
       "<table border=\"1\" class=\"dataframe\">\n",
       "  <thead>\n",
       "    <tr style=\"text-align: right;\">\n",
       "      <th></th>\n",
       "      <th>student</th>\n",
       "      <th>semester</th>\n",
       "      <th>language</th>\n",
       "      <th>science</th>\n",
       "      <th>maths</th>\n",
       "      <th>history</th>\n",
       "      <th>theoritical_avg</th>\n",
       "      <th>exact_sciences_avg</th>\n",
       "      <th>theoritical_passORfail</th>\n",
       "      <th>exact_sciences_passORfail</th>\n",
       "    </tr>\n",
       "  </thead>\n",
       "  <tbody>\n",
       "    <tr>\n",
       "      <th>0</th>\n",
       "      <td>Alkistis</td>\n",
       "      <td>first</td>\n",
       "      <td>90.0</td>\n",
       "      <td>56.0</td>\n",
       "      <td>34.0</td>\n",
       "      <td>34.0</td>\n",
       "      <td>62.0</td>\n",
       "      <td>45.0</td>\n",
       "      <td>pass</td>\n",
       "      <td>fail</td>\n",
       "    </tr>\n",
       "    <tr>\n",
       "      <th>1</th>\n",
       "      <td>Eleni</td>\n",
       "      <td>first</td>\n",
       "      <td>10.0</td>\n",
       "      <td>40.0</td>\n",
       "      <td>32.0</td>\n",
       "      <td>67.0</td>\n",
       "      <td>38.5</td>\n",
       "      <td>36.0</td>\n",
       "      <td>fail</td>\n",
       "      <td>fail</td>\n",
       "    </tr>\n",
       "    <tr>\n",
       "      <th>2</th>\n",
       "      <td>Christina</td>\n",
       "      <td>first</td>\n",
       "      <td>90.0</td>\n",
       "      <td>23.0</td>\n",
       "      <td>12.0</td>\n",
       "      <td>32.0</td>\n",
       "      <td>61.0</td>\n",
       "      <td>17.5</td>\n",
       "      <td>pass</td>\n",
       "      <td>fail</td>\n",
       "    </tr>\n",
       "    <tr>\n",
       "      <th>3</th>\n",
       "      <td>Aris</td>\n",
       "      <td>first</td>\n",
       "      <td>20.0</td>\n",
       "      <td>50.0</td>\n",
       "      <td>90.0</td>\n",
       "      <td>45.0</td>\n",
       "      <td>32.5</td>\n",
       "      <td>70.0</td>\n",
       "      <td>fail</td>\n",
       "      <td>pass</td>\n",
       "    </tr>\n",
       "    <tr>\n",
       "      <th>4</th>\n",
       "      <td>Dimitris</td>\n",
       "      <td>first</td>\n",
       "      <td>30.0</td>\n",
       "      <td>56.0</td>\n",
       "      <td>45.0</td>\n",
       "      <td>65.0</td>\n",
       "      <td>47.5</td>\n",
       "      <td>50.5</td>\n",
       "      <td>fail</td>\n",
       "      <td>pass</td>\n",
       "    </tr>\n",
       "    <tr>\n",
       "      <th>5</th>\n",
       "      <td>Kostas</td>\n",
       "      <td>first</td>\n",
       "      <td>90.0</td>\n",
       "      <td>45.0</td>\n",
       "      <td>80.0</td>\n",
       "      <td>34.0</td>\n",
       "      <td>62.0</td>\n",
       "      <td>62.5</td>\n",
       "      <td>pass</td>\n",
       "      <td>pass</td>\n",
       "    </tr>\n",
       "    <tr>\n",
       "      <th>6</th>\n",
       "      <td>Manos</td>\n",
       "      <td>first</td>\n",
       "      <td>50.0</td>\n",
       "      <td>90.0</td>\n",
       "      <td>45.0</td>\n",
       "      <td>23.0</td>\n",
       "      <td>36.5</td>\n",
       "      <td>67.5</td>\n",
       "      <td>fail</td>\n",
       "      <td>pass</td>\n",
       "    </tr>\n",
       "  </tbody>\n",
       "</table>\n",
       "</div>"
      ],
      "text/plain": [
       "     student semester  language  science  maths  history  theoritical_avg  \\\n",
       "0   Alkistis    first      90.0     56.0   34.0     34.0             62.0   \n",
       "1      Eleni    first      10.0     40.0   32.0     67.0             38.5   \n",
       "2  Christina    first      90.0     23.0   12.0     32.0             61.0   \n",
       "3       Aris    first      20.0     50.0   90.0     45.0             32.5   \n",
       "4   Dimitris    first      30.0     56.0   45.0     65.0             47.5   \n",
       "5     Kostas    first      90.0     45.0   80.0     34.0             62.0   \n",
       "6      Manos    first      50.0     90.0   45.0     23.0             36.5   \n",
       "\n",
       "   exact_sciences_avg theoritical_passORfail exact_sciences_passORfail  \n",
       "0                45.0                   pass                      fail  \n",
       "1                36.0                   fail                      fail  \n",
       "2                17.5                   pass                      fail  \n",
       "3                70.0                   fail                      pass  \n",
       "4                50.5                   fail                      pass  \n",
       "5                62.5                   pass                      pass  \n",
       "6                67.5                   fail                      pass  "
      ]
     },
     "execution_count": 72,
     "metadata": {},
     "output_type": "execute_result"
    }
   ],
   "source": [
    "data"
   ]
  },
  {
   "cell_type": "code",
   "execution_count": 73,
   "id": "0be64d14",
   "metadata": {
    "id": "0be64d14",
    "outputId": "e9935e06-a122-4208-bf4f-896687e997a7"
   },
   "outputs": [
    {
     "data": {
      "text/html": [
       "<div>\n",
       "<style scoped>\n",
       "    .dataframe tbody tr th:only-of-type {\n",
       "        vertical-align: middle;\n",
       "    }\n",
       "\n",
       "    .dataframe tbody tr th {\n",
       "        vertical-align: top;\n",
       "    }\n",
       "\n",
       "    .dataframe thead th {\n",
       "        text-align: right;\n",
       "    }\n",
       "</style>\n",
       "<table border=\"1\" class=\"dataframe\">\n",
       "  <thead>\n",
       "    <tr style=\"text-align: right;\">\n",
       "      <th></th>\n",
       "      <th>student</th>\n",
       "      <th>semester</th>\n",
       "      <th>language</th>\n",
       "      <th>science</th>\n",
       "      <th>maths</th>\n",
       "      <th>history</th>\n",
       "      <th>theoritical_avg</th>\n",
       "      <th>exact_sciences_avg</th>\n",
       "      <th>theoritical_passORfail</th>\n",
       "      <th>exact_sciences_passORfail</th>\n",
       "    </tr>\n",
       "  </thead>\n",
       "  <tbody>\n",
       "    <tr>\n",
       "      <th>0</th>\n",
       "      <td>Alkistis</td>\n",
       "      <td>first</td>\n",
       "      <td>90.0</td>\n",
       "      <td>56.0</td>\n",
       "      <td>34.0</td>\n",
       "      <td>34.0</td>\n",
       "      <td>62.0</td>\n",
       "      <td>45.0</td>\n",
       "      <td>pass</td>\n",
       "      <td>fail</td>\n",
       "    </tr>\n",
       "    <tr>\n",
       "      <th>1</th>\n",
       "      <td>Eleni</td>\n",
       "      <td>first</td>\n",
       "      <td>10.0</td>\n",
       "      <td>40.0</td>\n",
       "      <td>32.0</td>\n",
       "      <td>67.0</td>\n",
       "      <td>38.5</td>\n",
       "      <td>36.0</td>\n",
       "      <td>fail</td>\n",
       "      <td>fail</td>\n",
       "    </tr>\n",
       "    <tr>\n",
       "      <th>2</th>\n",
       "      <td>Christina</td>\n",
       "      <td>first</td>\n",
       "      <td>90.0</td>\n",
       "      <td>23.0</td>\n",
       "      <td>12.0</td>\n",
       "      <td>32.0</td>\n",
       "      <td>61.0</td>\n",
       "      <td>17.5</td>\n",
       "      <td>pass</td>\n",
       "      <td>fail</td>\n",
       "    </tr>\n",
       "    <tr>\n",
       "      <th>3</th>\n",
       "      <td>Aris</td>\n",
       "      <td>first</td>\n",
       "      <td>20.0</td>\n",
       "      <td>50.0</td>\n",
       "      <td>90.0</td>\n",
       "      <td>45.0</td>\n",
       "      <td>32.5</td>\n",
       "      <td>70.0</td>\n",
       "      <td>fail</td>\n",
       "      <td>pass</td>\n",
       "    </tr>\n",
       "    <tr>\n",
       "      <th>4</th>\n",
       "      <td>Dimitris</td>\n",
       "      <td>first</td>\n",
       "      <td>30.0</td>\n",
       "      <td>56.0</td>\n",
       "      <td>45.0</td>\n",
       "      <td>65.0</td>\n",
       "      <td>47.5</td>\n",
       "      <td>50.5</td>\n",
       "      <td>fail</td>\n",
       "      <td>pass</td>\n",
       "    </tr>\n",
       "    <tr>\n",
       "      <th>5</th>\n",
       "      <td>Kostas</td>\n",
       "      <td>first</td>\n",
       "      <td>90.0</td>\n",
       "      <td>45.0</td>\n",
       "      <td>80.0</td>\n",
       "      <td>34.0</td>\n",
       "      <td>62.0</td>\n",
       "      <td>62.5</td>\n",
       "      <td>pass</td>\n",
       "      <td>pass</td>\n",
       "    </tr>\n",
       "    <tr>\n",
       "      <th>6</th>\n",
       "      <td>Manos</td>\n",
       "      <td>first</td>\n",
       "      <td>50.0</td>\n",
       "      <td>90.0</td>\n",
       "      <td>45.0</td>\n",
       "      <td>23.0</td>\n",
       "      <td>36.5</td>\n",
       "      <td>67.5</td>\n",
       "      <td>fail</td>\n",
       "      <td>pass</td>\n",
       "    </tr>\n",
       "  </tbody>\n",
       "</table>\n",
       "</div>"
      ],
      "text/plain": [
       "     student semester  language  science  maths  history  theoritical_avg  \\\n",
       "0   Alkistis    first      90.0     56.0   34.0     34.0             62.0   \n",
       "1      Eleni    first      10.0     40.0   32.0     67.0             38.5   \n",
       "2  Christina    first      90.0     23.0   12.0     32.0             61.0   \n",
       "3       Aris    first      20.0     50.0   90.0     45.0             32.5   \n",
       "4   Dimitris    first      30.0     56.0   45.0     65.0             47.5   \n",
       "5     Kostas    first      90.0     45.0   80.0     34.0             62.0   \n",
       "6      Manos    first      50.0     90.0   45.0     23.0             36.5   \n",
       "\n",
       "   exact_sciences_avg theoritical_passORfail exact_sciences_passORfail  \n",
       "0                45.0                   pass                      fail  \n",
       "1                36.0                   fail                      fail  \n",
       "2                17.5                   pass                      fail  \n",
       "3                70.0                   fail                      pass  \n",
       "4                50.5                   fail                      pass  \n",
       "5                62.5                   pass                      pass  \n",
       "6                67.5                   fail                      pass  "
      ]
     },
     "execution_count": 73,
     "metadata": {},
     "output_type": "execute_result"
    }
   ],
   "source": [
    "data"
   ]
  },
  {
   "cell_type": "code",
   "execution_count": 74,
   "id": "220f16b9",
   "metadata": {
    "id": "220f16b9",
    "outputId": "08383023-8c4b-4c34-fc3c-425b49d8a5e4"
   },
   "outputs": [
    {
     "data": {
      "text/plain": [
       "0    False\n",
       "1     True\n",
       "2    False\n",
       "3     True\n",
       "4     True\n",
       "5    False\n",
       "6     True\n",
       "Name: theoritical_passORfail, dtype: bool"
      ]
     },
     "execution_count": 74,
     "metadata": {},
     "output_type": "execute_result"
    }
   ],
   "source": [
    "#check condition\n",
    "data['theoritical_passORfail']=='fail'"
   ]
  },
  {
   "cell_type": "code",
   "execution_count": 75,
   "id": "998dc73e",
   "metadata": {
    "id": "998dc73e",
    "outputId": "13976416-d436-44bb-9814-f3eb91083927"
   },
   "outputs": [
    {
     "data": {
      "text/plain": [
       "Int64Index([1, 3, 4, 6], dtype='int64')"
      ]
     },
     "execution_count": 75,
     "metadata": {},
     "output_type": "execute_result"
    }
   ],
   "source": [
    "#indexes where condition is valid\n",
    "data[data['theoritical_passORfail']=='fail'].index"
   ]
  },
  {
   "cell_type": "code",
   "execution_count": 76,
   "id": "6144316d",
   "metadata": {
    "id": "6144316d",
    "outputId": "2b9d6279-3a52-4977-fafa-99879379129b"
   },
   "outputs": [],
   "source": [
    "#use those indexes to drop rows\n",
    "data.drop(data[data['theoritical_passORfail']=='fail'].index, inplace=True)"
   ]
  },
  {
   "cell_type": "code",
   "execution_count": 77,
   "id": "ad250df2",
   "metadata": {
    "id": "ad250df2",
    "outputId": "5e2b06c0-73fb-4e58-82b2-4635477071ae"
   },
   "outputs": [
    {
     "data": {
      "text/html": [
       "<div>\n",
       "<style scoped>\n",
       "    .dataframe tbody tr th:only-of-type {\n",
       "        vertical-align: middle;\n",
       "    }\n",
       "\n",
       "    .dataframe tbody tr th {\n",
       "        vertical-align: top;\n",
       "    }\n",
       "\n",
       "    .dataframe thead th {\n",
       "        text-align: right;\n",
       "    }\n",
       "</style>\n",
       "<table border=\"1\" class=\"dataframe\">\n",
       "  <thead>\n",
       "    <tr style=\"text-align: right;\">\n",
       "      <th></th>\n",
       "      <th>student</th>\n",
       "      <th>semester</th>\n",
       "      <th>language</th>\n",
       "      <th>science</th>\n",
       "      <th>maths</th>\n",
       "      <th>history</th>\n",
       "      <th>theoritical_avg</th>\n",
       "      <th>exact_sciences_avg</th>\n",
       "      <th>theoritical_passORfail</th>\n",
       "      <th>exact_sciences_passORfail</th>\n",
       "    </tr>\n",
       "  </thead>\n",
       "  <tbody>\n",
       "    <tr>\n",
       "      <th>0</th>\n",
       "      <td>Alkistis</td>\n",
       "      <td>first</td>\n",
       "      <td>90.0</td>\n",
       "      <td>56.0</td>\n",
       "      <td>34.0</td>\n",
       "      <td>34.0</td>\n",
       "      <td>62.0</td>\n",
       "      <td>45.0</td>\n",
       "      <td>pass</td>\n",
       "      <td>fail</td>\n",
       "    </tr>\n",
       "    <tr>\n",
       "      <th>2</th>\n",
       "      <td>Christina</td>\n",
       "      <td>first</td>\n",
       "      <td>90.0</td>\n",
       "      <td>23.0</td>\n",
       "      <td>12.0</td>\n",
       "      <td>32.0</td>\n",
       "      <td>61.0</td>\n",
       "      <td>17.5</td>\n",
       "      <td>pass</td>\n",
       "      <td>fail</td>\n",
       "    </tr>\n",
       "    <tr>\n",
       "      <th>5</th>\n",
       "      <td>Kostas</td>\n",
       "      <td>first</td>\n",
       "      <td>90.0</td>\n",
       "      <td>45.0</td>\n",
       "      <td>80.0</td>\n",
       "      <td>34.0</td>\n",
       "      <td>62.0</td>\n",
       "      <td>62.5</td>\n",
       "      <td>pass</td>\n",
       "      <td>pass</td>\n",
       "    </tr>\n",
       "  </tbody>\n",
       "</table>\n",
       "</div>"
      ],
      "text/plain": [
       "     student semester  language  science  maths  history  theoritical_avg  \\\n",
       "0   Alkistis    first      90.0     56.0   34.0     34.0             62.0   \n",
       "2  Christina    first      90.0     23.0   12.0     32.0             61.0   \n",
       "5     Kostas    first      90.0     45.0   80.0     34.0             62.0   \n",
       "\n",
       "   exact_sciences_avg theoritical_passORfail exact_sciences_passORfail  \n",
       "0                45.0                   pass                      fail  \n",
       "2                17.5                   pass                      fail  \n",
       "5                62.5                   pass                      pass  "
      ]
     },
     "execution_count": 77,
     "metadata": {},
     "output_type": "execute_result"
    }
   ],
   "source": [
    "data"
   ]
  },
  {
   "cell_type": "code",
   "execution_count": 78,
   "id": "15a72d6f",
   "metadata": {
    "id": "15a72d6f"
   },
   "outputs": [],
   "source": [
    "#create the lists of components\n",
    "student = ['Nick', 'John', 'Jim', 'Sam']\n",
    "Language = [70,90,100,50]\n",
    "Science = [60,80,75,96]\n",
    "History = [85,87,55,67]\n",
    "Maths = [80,87,88,74]\n",
    "StudentCode = ['2018-9875-13','2017-9356-23','2019-8988-43','2016-0099-13']\n"
   ]
  },
  {
   "cell_type": "code",
   "execution_count": 79,
   "id": "f2060bd4",
   "metadata": {},
   "outputs": [],
   "source": [
    "#create the dictionary from the lists\n",
    "d = { 'Language':Language,'Science':Science,'History':History,'Maths':Maths,'StudentCode':StudentCode }\n"
   ]
  },
  {
   "cell_type": "code",
   "execution_count": 80,
   "id": "20adae91",
   "metadata": {},
   "outputs": [
    {
     "data": {
      "text/html": [
       "<div>\n",
       "<style scoped>\n",
       "    .dataframe tbody tr th:only-of-type {\n",
       "        vertical-align: middle;\n",
       "    }\n",
       "\n",
       "    .dataframe tbody tr th {\n",
       "        vertical-align: top;\n",
       "    }\n",
       "\n",
       "    .dataframe thead th {\n",
       "        text-align: right;\n",
       "    }\n",
       "</style>\n",
       "<table border=\"1\" class=\"dataframe\">\n",
       "  <thead>\n",
       "    <tr style=\"text-align: right;\">\n",
       "      <th></th>\n",
       "      <th>Language</th>\n",
       "      <th>Science</th>\n",
       "      <th>History</th>\n",
       "      <th>Maths</th>\n",
       "      <th>StudentCode</th>\n",
       "    </tr>\n",
       "  </thead>\n",
       "  <tbody>\n",
       "    <tr>\n",
       "      <th>Nick</th>\n",
       "      <td>70</td>\n",
       "      <td>60</td>\n",
       "      <td>85</td>\n",
       "      <td>80</td>\n",
       "      <td>2018-9875-13</td>\n",
       "    </tr>\n",
       "    <tr>\n",
       "      <th>John</th>\n",
       "      <td>90</td>\n",
       "      <td>80</td>\n",
       "      <td>87</td>\n",
       "      <td>87</td>\n",
       "      <td>2017-9356-23</td>\n",
       "    </tr>\n",
       "    <tr>\n",
       "      <th>Jim</th>\n",
       "      <td>100</td>\n",
       "      <td>75</td>\n",
       "      <td>55</td>\n",
       "      <td>88</td>\n",
       "      <td>2019-8988-43</td>\n",
       "    </tr>\n",
       "    <tr>\n",
       "      <th>Sam</th>\n",
       "      <td>50</td>\n",
       "      <td>96</td>\n",
       "      <td>67</td>\n",
       "      <td>74</td>\n",
       "      <td>2016-0099-13</td>\n",
       "    </tr>\n",
       "  </tbody>\n",
       "</table>\n",
       "</div>"
      ],
      "text/plain": [
       "      Language  Science  History  Maths   StudentCode\n",
       "Nick        70       60       85     80  2018-9875-13\n",
       "John        90       80       87     87  2017-9356-23\n",
       "Jim        100       75       55     88  2019-8988-43\n",
       "Sam         50       96       67     74  2016-0099-13"
      ]
     },
     "execution_count": 80,
     "metadata": {},
     "output_type": "execute_result"
    }
   ],
   "source": [
    "#transform to a dataframe\n",
    "df= pd.DataFrame(data=d, index=student)\n",
    "df.head()"
   ]
  },
  {
   "cell_type": "code",
   "execution_count": 81,
   "id": "dfc4f2ae",
   "metadata": {},
   "outputs": [
    {
     "name": "stdout",
     "output_type": "stream",
     "text": [
      "['This', 'is', 'a', 'line']\n",
      "This\n"
     ]
    }
   ],
   "source": [
    "string='This is a line'\n",
    "lista=string.split()\n",
    "print(lista)\n",
    "print(lista[0])\n"
   ]
  },
  {
   "cell_type": "code",
   "execution_count": 82,
   "id": "fa5b4c30",
   "metadata": {},
   "outputs": [],
   "source": [
    "def ex_year(str_cell):\n",
    "    year=str_cell.split('-')[0]\n",
    "    return int(year)\n",
    "    "
   ]
  },
  {
   "cell_type": "code",
   "execution_count": 83,
   "id": "ea2c944e",
   "metadata": {},
   "outputs": [
    {
     "data": {
      "text/plain": [
       "2016"
      ]
     },
     "execution_count": 83,
     "metadata": {},
     "output_type": "execute_result"
    }
   ],
   "source": [
    "ex_year(df['StudentCode'][3])"
   ]
  },
  {
   "cell_type": "code",
   "execution_count": 84,
   "id": "c81df144",
   "metadata": {},
   "outputs": [],
   "source": [
    "df['Year']=list(map(ex_year, df['StudentCode']))\n",
    "\n",
    "\n",
    "#####   MAP only for SERIES #####"
   ]
  },
  {
   "cell_type": "code",
   "execution_count": 85,
   "id": "29991be8",
   "metadata": {},
   "outputs": [
    {
     "data": {
      "text/html": [
       "<div>\n",
       "<style scoped>\n",
       "    .dataframe tbody tr th:only-of-type {\n",
       "        vertical-align: middle;\n",
       "    }\n",
       "\n",
       "    .dataframe tbody tr th {\n",
       "        vertical-align: top;\n",
       "    }\n",
       "\n",
       "    .dataframe thead th {\n",
       "        text-align: right;\n",
       "    }\n",
       "</style>\n",
       "<table border=\"1\" class=\"dataframe\">\n",
       "  <thead>\n",
       "    <tr style=\"text-align: right;\">\n",
       "      <th></th>\n",
       "      <th>Language</th>\n",
       "      <th>Science</th>\n",
       "      <th>History</th>\n",
       "      <th>Maths</th>\n",
       "      <th>StudentCode</th>\n",
       "      <th>Year</th>\n",
       "    </tr>\n",
       "  </thead>\n",
       "  <tbody>\n",
       "    <tr>\n",
       "      <th>Nick</th>\n",
       "      <td>70</td>\n",
       "      <td>60</td>\n",
       "      <td>85</td>\n",
       "      <td>80</td>\n",
       "      <td>2018-9875-13</td>\n",
       "      <td>2018</td>\n",
       "    </tr>\n",
       "    <tr>\n",
       "      <th>John</th>\n",
       "      <td>90</td>\n",
       "      <td>80</td>\n",
       "      <td>87</td>\n",
       "      <td>87</td>\n",
       "      <td>2017-9356-23</td>\n",
       "      <td>2017</td>\n",
       "    </tr>\n",
       "    <tr>\n",
       "      <th>Jim</th>\n",
       "      <td>100</td>\n",
       "      <td>75</td>\n",
       "      <td>55</td>\n",
       "      <td>88</td>\n",
       "      <td>2019-8988-43</td>\n",
       "      <td>2019</td>\n",
       "    </tr>\n",
       "    <tr>\n",
       "      <th>Sam</th>\n",
       "      <td>50</td>\n",
       "      <td>96</td>\n",
       "      <td>67</td>\n",
       "      <td>74</td>\n",
       "      <td>2016-0099-13</td>\n",
       "      <td>2016</td>\n",
       "    </tr>\n",
       "  </tbody>\n",
       "</table>\n",
       "</div>"
      ],
      "text/plain": [
       "      Language  Science  History  Maths   StudentCode  Year\n",
       "Nick        70       60       85     80  2018-9875-13  2018\n",
       "John        90       80       87     87  2017-9356-23  2017\n",
       "Jim        100       75       55     88  2019-8988-43  2019\n",
       "Sam         50       96       67     74  2016-0099-13  2016"
      ]
     },
     "execution_count": 85,
     "metadata": {},
     "output_type": "execute_result"
    }
   ],
   "source": [
    "df.head()"
   ]
  },
  {
   "cell_type": "code",
   "execution_count": 86,
   "id": "aae18138",
   "metadata": {
    "scrolled": true
   },
   "outputs": [
    {
     "data": {
      "text/html": [
       "<div>\n",
       "<style scoped>\n",
       "    .dataframe tbody tr th:only-of-type {\n",
       "        vertical-align: middle;\n",
       "    }\n",
       "\n",
       "    .dataframe tbody tr th {\n",
       "        vertical-align: top;\n",
       "    }\n",
       "\n",
       "    .dataframe thead th {\n",
       "        text-align: right;\n",
       "    }\n",
       "</style>\n",
       "<table border=\"1\" class=\"dataframe\">\n",
       "  <thead>\n",
       "    <tr style=\"text-align: right;\">\n",
       "      <th></th>\n",
       "      <th>Language</th>\n",
       "      <th>Science</th>\n",
       "      <th>History</th>\n",
       "      <th>Maths</th>\n",
       "    </tr>\n",
       "  </thead>\n",
       "  <tbody>\n",
       "    <tr>\n",
       "      <th>Nick</th>\n",
       "      <td>70</td>\n",
       "      <td>60</td>\n",
       "      <td>85</td>\n",
       "      <td>80</td>\n",
       "    </tr>\n",
       "    <tr>\n",
       "      <th>John</th>\n",
       "      <td>90</td>\n",
       "      <td>80</td>\n",
       "      <td>87</td>\n",
       "      <td>87</td>\n",
       "    </tr>\n",
       "    <tr>\n",
       "      <th>Jim</th>\n",
       "      <td>100</td>\n",
       "      <td>75</td>\n",
       "      <td>55</td>\n",
       "      <td>88</td>\n",
       "    </tr>\n",
       "    <tr>\n",
       "      <th>Sam</th>\n",
       "      <td>50</td>\n",
       "      <td>96</td>\n",
       "      <td>67</td>\n",
       "      <td>74</td>\n",
       "    </tr>\n",
       "  </tbody>\n",
       "</table>\n",
       "</div>"
      ],
      "text/plain": [
       "      Language  Science  History  Maths\n",
       "Nick        70       60       85     80\n",
       "John        90       80       87     87\n",
       "Jim        100       75       55     88\n",
       "Sam         50       96       67     74"
      ]
     },
     "execution_count": 86,
     "metadata": {},
     "output_type": "execute_result"
    }
   ],
   "source": [
    "df_2=df.drop(columns=['StudentCode','Year'])\n",
    "df_2.head()"
   ]
  },
  {
   "cell_type": "code",
   "execution_count": 87,
   "id": "ec2c1fd8",
   "metadata": {},
   "outputs": [
    {
     "data": {
      "text/plain": [
       "4"
      ]
     },
     "execution_count": 87,
     "metadata": {},
     "output_type": "execute_result"
    }
   ],
   "source": [
    "len(df_2.iloc[0])"
   ]
  },
  {
   "cell_type": "code",
   "execution_count": 88,
   "id": "72ee188b",
   "metadata": {
    "scrolled": true
   },
   "outputs": [
    {
     "data": {
      "text/plain": [
       "344"
      ]
     },
     "execution_count": 88,
     "metadata": {},
     "output_type": "execute_result"
    }
   ],
   "source": [
    "df_2.iloc[1].sum()"
   ]
  },
  {
   "cell_type": "code",
   "execution_count": 89,
   "id": "bbd9291e",
   "metadata": {},
   "outputs": [],
   "source": [
    "def custom_avg(row):\n",
    "    avg=row.sum()/len(row)\n",
    "    return avg"
   ]
  },
  {
   "cell_type": "code",
   "execution_count": 90,
   "id": "6467b21b",
   "metadata": {},
   "outputs": [
    {
     "data": {
      "text/html": [
       "<div>\n",
       "<style scoped>\n",
       "    .dataframe tbody tr th:only-of-type {\n",
       "        vertical-align: middle;\n",
       "    }\n",
       "\n",
       "    .dataframe tbody tr th {\n",
       "        vertical-align: top;\n",
       "    }\n",
       "\n",
       "    .dataframe thead th {\n",
       "        text-align: right;\n",
       "    }\n",
       "</style>\n",
       "<table border=\"1\" class=\"dataframe\">\n",
       "  <thead>\n",
       "    <tr style=\"text-align: right;\">\n",
       "      <th></th>\n",
       "      <th>Language</th>\n",
       "      <th>Science</th>\n",
       "      <th>History</th>\n",
       "      <th>Maths</th>\n",
       "      <th>Average</th>\n",
       "    </tr>\n",
       "  </thead>\n",
       "  <tbody>\n",
       "    <tr>\n",
       "      <th>Nick</th>\n",
       "      <td>70</td>\n",
       "      <td>60</td>\n",
       "      <td>85</td>\n",
       "      <td>80</td>\n",
       "      <td>73.75</td>\n",
       "    </tr>\n",
       "    <tr>\n",
       "      <th>John</th>\n",
       "      <td>90</td>\n",
       "      <td>80</td>\n",
       "      <td>87</td>\n",
       "      <td>87</td>\n",
       "      <td>86.00</td>\n",
       "    </tr>\n",
       "    <tr>\n",
       "      <th>Jim</th>\n",
       "      <td>100</td>\n",
       "      <td>75</td>\n",
       "      <td>55</td>\n",
       "      <td>88</td>\n",
       "      <td>79.50</td>\n",
       "    </tr>\n",
       "    <tr>\n",
       "      <th>Sam</th>\n",
       "      <td>50</td>\n",
       "      <td>96</td>\n",
       "      <td>67</td>\n",
       "      <td>74</td>\n",
       "      <td>71.75</td>\n",
       "    </tr>\n",
       "  </tbody>\n",
       "</table>\n",
       "</div>"
      ],
      "text/plain": [
       "      Language  Science  History  Maths  Average\n",
       "Nick        70       60       85     80    73.75\n",
       "John        90       80       87     87    86.00\n",
       "Jim        100       75       55     88    79.50\n",
       "Sam         50       96       67     74    71.75"
      ]
     },
     "execution_count": 90,
     "metadata": {},
     "output_type": "execute_result"
    }
   ],
   "source": [
    "df_2['Average']=df_2.apply(custom_avg, axis=1)\n",
    "\n",
    "df_2.head()"
   ]
  },
  {
   "cell_type": "code",
   "execution_count": 91,
   "id": "52236abe",
   "metadata": {},
   "outputs": [],
   "source": [
    "df['GraduationYear']=df.apply(lambda x: x['Year']+3 ,axis=1)"
   ]
  },
  {
   "cell_type": "code",
   "execution_count": 92,
   "id": "68c77206",
   "metadata": {},
   "outputs": [
    {
     "data": {
      "text/html": [
       "<div>\n",
       "<style scoped>\n",
       "    .dataframe tbody tr th:only-of-type {\n",
       "        vertical-align: middle;\n",
       "    }\n",
       "\n",
       "    .dataframe tbody tr th {\n",
       "        vertical-align: top;\n",
       "    }\n",
       "\n",
       "    .dataframe thead th {\n",
       "        text-align: right;\n",
       "    }\n",
       "</style>\n",
       "<table border=\"1\" class=\"dataframe\">\n",
       "  <thead>\n",
       "    <tr style=\"text-align: right;\">\n",
       "      <th></th>\n",
       "      <th>Language</th>\n",
       "      <th>Science</th>\n",
       "      <th>History</th>\n",
       "      <th>Maths</th>\n",
       "      <th>StudentCode</th>\n",
       "      <th>Year</th>\n",
       "      <th>GraduationYear</th>\n",
       "    </tr>\n",
       "  </thead>\n",
       "  <tbody>\n",
       "    <tr>\n",
       "      <th>Nick</th>\n",
       "      <td>70</td>\n",
       "      <td>60</td>\n",
       "      <td>85</td>\n",
       "      <td>80</td>\n",
       "      <td>2018-9875-13</td>\n",
       "      <td>2018</td>\n",
       "      <td>2021</td>\n",
       "    </tr>\n",
       "    <tr>\n",
       "      <th>John</th>\n",
       "      <td>90</td>\n",
       "      <td>80</td>\n",
       "      <td>87</td>\n",
       "      <td>87</td>\n",
       "      <td>2017-9356-23</td>\n",
       "      <td>2017</td>\n",
       "      <td>2020</td>\n",
       "    </tr>\n",
       "    <tr>\n",
       "      <th>Jim</th>\n",
       "      <td>100</td>\n",
       "      <td>75</td>\n",
       "      <td>55</td>\n",
       "      <td>88</td>\n",
       "      <td>2019-8988-43</td>\n",
       "      <td>2019</td>\n",
       "      <td>2022</td>\n",
       "    </tr>\n",
       "    <tr>\n",
       "      <th>Sam</th>\n",
       "      <td>50</td>\n",
       "      <td>96</td>\n",
       "      <td>67</td>\n",
       "      <td>74</td>\n",
       "      <td>2016-0099-13</td>\n",
       "      <td>2016</td>\n",
       "      <td>2019</td>\n",
       "    </tr>\n",
       "  </tbody>\n",
       "</table>\n",
       "</div>"
      ],
      "text/plain": [
       "      Language  Science  History  Maths   StudentCode  Year  GraduationYear\n",
       "Nick        70       60       85     80  2018-9875-13  2018            2021\n",
       "John        90       80       87     87  2017-9356-23  2017            2020\n",
       "Jim        100       75       55     88  2019-8988-43  2019            2022\n",
       "Sam         50       96       67     74  2016-0099-13  2016            2019"
      ]
     },
     "execution_count": 92,
     "metadata": {},
     "output_type": "execute_result"
    }
   ],
   "source": [
    "df.head()"
   ]
  },
  {
   "cell_type": "code",
   "execution_count": 93,
   "id": "35087eba",
   "metadata": {},
   "outputs": [
    {
     "data": {
      "text/html": [
       "<div>\n",
       "<style scoped>\n",
       "    .dataframe tbody tr th:only-of-type {\n",
       "        vertical-align: middle;\n",
       "    }\n",
       "\n",
       "    .dataframe tbody tr th {\n",
       "        vertical-align: top;\n",
       "    }\n",
       "\n",
       "    .dataframe thead th {\n",
       "        text-align: right;\n",
       "    }\n",
       "</style>\n",
       "<table border=\"1\" class=\"dataframe\">\n",
       "  <thead>\n",
       "    <tr style=\"text-align: right;\">\n",
       "      <th></th>\n",
       "      <th>Language</th>\n",
       "      <th>Science</th>\n",
       "      <th>History</th>\n",
       "      <th>Maths</th>\n",
       "      <th>StudentCode</th>\n",
       "      <th>Year</th>\n",
       "      <th>GraduationYear</th>\n",
       "      <th>GraduatingThisYear</th>\n",
       "    </tr>\n",
       "  </thead>\n",
       "  <tbody>\n",
       "    <tr>\n",
       "      <th>Nick</th>\n",
       "      <td>70</td>\n",
       "      <td>60</td>\n",
       "      <td>85</td>\n",
       "      <td>80</td>\n",
       "      <td>2018-9875-13</td>\n",
       "      <td>2018</td>\n",
       "      <td>2021</td>\n",
       "      <td>False</td>\n",
       "    </tr>\n",
       "    <tr>\n",
       "      <th>John</th>\n",
       "      <td>90</td>\n",
       "      <td>80</td>\n",
       "      <td>87</td>\n",
       "      <td>87</td>\n",
       "      <td>2017-9356-23</td>\n",
       "      <td>2017</td>\n",
       "      <td>2020</td>\n",
       "      <td>False</td>\n",
       "    </tr>\n",
       "    <tr>\n",
       "      <th>Jim</th>\n",
       "      <td>100</td>\n",
       "      <td>75</td>\n",
       "      <td>55</td>\n",
       "      <td>88</td>\n",
       "      <td>2019-8988-43</td>\n",
       "      <td>2019</td>\n",
       "      <td>2022</td>\n",
       "      <td>True</td>\n",
       "    </tr>\n",
       "    <tr>\n",
       "      <th>Sam</th>\n",
       "      <td>50</td>\n",
       "      <td>96</td>\n",
       "      <td>67</td>\n",
       "      <td>74</td>\n",
       "      <td>2016-0099-13</td>\n",
       "      <td>2016</td>\n",
       "      <td>2019</td>\n",
       "      <td>False</td>\n",
       "    </tr>\n",
       "  </tbody>\n",
       "</table>\n",
       "</div>"
      ],
      "text/plain": [
       "      Language  Science  History  Maths   StudentCode  Year  GraduationYear  \\\n",
       "Nick        70       60       85     80  2018-9875-13  2018            2021   \n",
       "John        90       80       87     87  2017-9356-23  2017            2020   \n",
       "Jim        100       75       55     88  2019-8988-43  2019            2022   \n",
       "Sam         50       96       67     74  2016-0099-13  2016            2019   \n",
       "\n",
       "     GraduatingThisYear  \n",
       "Nick              False  \n",
       "John              False  \n",
       "Jim                True  \n",
       "Sam               False  "
      ]
     },
     "execution_count": 93,
     "metadata": {},
     "output_type": "execute_result"
    }
   ],
   "source": [
    "df[\"GraduatingThisYear\"]=df.apply(lambda x:'True' if x[\"GraduationYear\"]==2022 else 'False' ,axis=1)\n",
    "df.head()"
   ]
  },
  {
   "cell_type": "code",
   "execution_count": 94,
   "id": "ed069f13",
   "metadata": {},
   "outputs": [
    {
     "data": {
      "text/plain": [
       "Language    70\n",
       "Science     60\n",
       "Name: Nick, dtype: int64"
      ]
     },
     "execution_count": 94,
     "metadata": {},
     "output_type": "execute_result"
    }
   ],
   "source": [
    "df[['Language','Science']].loc['Nick']"
   ]
  },
  {
   "cell_type": "code",
   "execution_count": 95,
   "id": "b0d7b9ef",
   "metadata": {},
   "outputs": [
    {
     "data": {
      "text/plain": [
       "70"
      ]
     },
     "execution_count": 95,
     "metadata": {},
     "output_type": "execute_result"
    }
   ],
   "source": [
    "df['Language']['Nick']"
   ]
  },
  {
   "cell_type": "code",
   "execution_count": null,
   "id": "104eeb69",
   "metadata": {},
   "outputs": [],
   "source": []
  }
 ],
 "metadata": {
  "colab": {
   "name": "Live_Coding_Day_5.ipynb",
   "provenance": []
  },
  "kernelspec": {
   "display_name": "Python 3 (ipykernel)",
   "language": "python",
   "name": "python3"
  },
  "language_info": {
   "codemirror_mode": {
    "name": "ipython",
    "version": 3
   },
   "file_extension": ".py",
   "mimetype": "text/x-python",
   "name": "python",
   "nbconvert_exporter": "python",
   "pygments_lexer": "ipython3",
   "version": "3.8.10"
  }
 },
 "nbformat": 4,
 "nbformat_minor": 5
}
